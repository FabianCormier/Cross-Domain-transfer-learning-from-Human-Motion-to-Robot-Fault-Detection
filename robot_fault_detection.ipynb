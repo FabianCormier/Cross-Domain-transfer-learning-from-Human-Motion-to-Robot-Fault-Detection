{
  "nbformat": 4,
  "nbformat_minor": 0,
  "metadata": {
    "colab": {
      "provenance": [],
      "gpuType": "T4"
    },
    "kernelspec": {
      "name": "python3",
      "display_name": "Python 3"
    },
    "language_info": {
      "name": "python"
    },
    "accelerator": "GPU"
  },
  "cells": [
    {
      "cell_type": "markdown",
      "source": [
        "CROSS DOMAIN TRANSFER LEARNING MODEL FOR ROBOT JOINT FAULT DETECTION."
      ],
      "metadata": {
        "id": "RLTbkNnXEHhs"
      }
    },
    {
      "cell_type": "code",
      "execution_count": 2,
      "metadata": {
        "colab": {
          "base_uri": "https://localhost:8080/",
          "height": 1000
        },
        "id": "vX8H3iXinSOb",
        "outputId": "b6afdab8-7368-448c-8eea-e70b951ed935"
      },
      "outputs": [
        {
          "output_type": "stream",
          "name": "stdout",
          "text": [
            "Epoch 1/80\n",
            "\u001b[1m619/619\u001b[0m \u001b[32m━━━━━━━━━━━━━━━━━━━━\u001b[0m\u001b[37m\u001b[0m \u001b[1m24s\u001b[0m 23ms/step - accuracy: 0.2562 - loss: 1.5919 - val_accuracy: 0.2644 - val_loss: 1.3943 - learning_rate: 0.0010\n",
            "Epoch 2/80\n",
            "\u001b[1m619/619\u001b[0m \u001b[32m━━━━━━━━━━━━━━━━━━━━\u001b[0m\u001b[37m\u001b[0m \u001b[1m13s\u001b[0m 21ms/step - accuracy: 0.2599 - loss: 1.4114 - val_accuracy: 0.2778 - val_loss: 1.3890 - learning_rate: 0.0010\n",
            "Epoch 3/80\n",
            "\u001b[1m619/619\u001b[0m \u001b[32m━━━━━━━━━━━━━━━━━━━━\u001b[0m\u001b[37m\u001b[0m \u001b[1m19s\u001b[0m 19ms/step - accuracy: 0.2731 - loss: 1.3926 - val_accuracy: 0.2824 - val_loss: 1.3866 - learning_rate: 0.0010\n",
            "Epoch 4/80\n",
            "\u001b[1m619/619\u001b[0m \u001b[32m━━━━━━━━━━━━━━━━━━━━\u001b[0m\u001b[37m\u001b[0m \u001b[1m12s\u001b[0m 20ms/step - accuracy: 0.2776 - loss: 1.3880 - val_accuracy: 0.2902 - val_loss: 1.3846 - learning_rate: 0.0010\n",
            "Epoch 5/80\n",
            "\u001b[1m619/619\u001b[0m \u001b[32m━━━━━━━━━━━━━━━━━━━━\u001b[0m\u001b[37m\u001b[0m \u001b[1m20s\u001b[0m 20ms/step - accuracy: 0.2851 - loss: 1.3864 - val_accuracy: 0.2864 - val_loss: 1.3835 - learning_rate: 0.0010\n",
            "Epoch 6/80\n",
            "\u001b[1m619/619\u001b[0m \u001b[32m━━━━━━━━━━━━━━━━━━━━\u001b[0m\u001b[37m\u001b[0m \u001b[1m20s\u001b[0m 19ms/step - accuracy: 0.2912 - loss: 1.3831 - val_accuracy: 0.2888 - val_loss: 1.3794 - learning_rate: 0.0010\n",
            "Epoch 7/80\n",
            "\u001b[1m619/619\u001b[0m \u001b[32m━━━━━━━━━━━━━━━━━━━━\u001b[0m\u001b[37m\u001b[0m \u001b[1m21s\u001b[0m 19ms/step - accuracy: 0.3025 - loss: 1.3766 - val_accuracy: 0.2977 - val_loss: 1.3760 - learning_rate: 0.0010\n",
            "Epoch 8/80\n",
            "\u001b[1m619/619\u001b[0m \u001b[32m━━━━━━━━━━━━━━━━━━━━\u001b[0m\u001b[37m\u001b[0m \u001b[1m21s\u001b[0m 20ms/step - accuracy: 0.3046 - loss: 1.3744 - val_accuracy: 0.3091 - val_loss: 1.3731 - learning_rate: 0.0010\n",
            "Epoch 9/80\n",
            "\u001b[1m619/619\u001b[0m \u001b[32m━━━━━━━━━━━━━━━━━━━━\u001b[0m\u001b[37m\u001b[0m \u001b[1m20s\u001b[0m 20ms/step - accuracy: 0.3210 - loss: 1.3664 - val_accuracy: 0.3264 - val_loss: 1.3632 - learning_rate: 0.0010\n",
            "Epoch 10/80\n",
            "\u001b[1m619/619\u001b[0m \u001b[32m━━━━━━━━━━━━━━━━━━━━\u001b[0m\u001b[37m\u001b[0m \u001b[1m20s\u001b[0m 18ms/step - accuracy: 0.3314 - loss: 1.3553 - val_accuracy: 0.3410 - val_loss: 1.3444 - learning_rate: 0.0010\n",
            "Epoch 11/80\n",
            "\u001b[1m619/619\u001b[0m \u001b[32m━━━━━━━━━━━━━━━━━━━━\u001b[0m\u001b[37m\u001b[0m \u001b[1m21s\u001b[0m 19ms/step - accuracy: 0.3621 - loss: 1.3332 - val_accuracy: 0.3669 - val_loss: 1.3285 - learning_rate: 0.0010\n",
            "Epoch 12/80\n",
            "\u001b[1m619/619\u001b[0m \u001b[32m━━━━━━━━━━━━━━━━━━━━\u001b[0m\u001b[37m\u001b[0m \u001b[1m21s\u001b[0m 20ms/step - accuracy: 0.3879 - loss: 1.3051 - val_accuracy: 0.3901 - val_loss: 1.2949 - learning_rate: 0.0010\n",
            "Epoch 13/80\n",
            "\u001b[1m619/619\u001b[0m \u001b[32m━━━━━━━━━━━━━━━━━━━━\u001b[0m\u001b[37m\u001b[0m \u001b[1m20s\u001b[0m 20ms/step - accuracy: 0.4210 - loss: 1.2671 - val_accuracy: 0.4326 - val_loss: 1.2430 - learning_rate: 0.0010\n",
            "Epoch 14/80\n",
            "\u001b[1m619/619\u001b[0m \u001b[32m━━━━━━━━━━━━━━━━━━━━\u001b[0m\u001b[37m\u001b[0m \u001b[1m12s\u001b[0m 20ms/step - accuracy: 0.4522 - loss: 1.2216 - val_accuracy: 0.4687 - val_loss: 1.1947 - learning_rate: 0.0010\n",
            "Epoch 15/80\n",
            "\u001b[1m619/619\u001b[0m \u001b[32m━━━━━━━━━━━━━━━━━━━━\u001b[0m\u001b[37m\u001b[0m \u001b[1m20s\u001b[0m 19ms/step - accuracy: 0.4906 - loss: 1.1619 - val_accuracy: 0.5112 - val_loss: 1.1285 - learning_rate: 0.0010\n",
            "Epoch 16/80\n",
            "\u001b[1m619/619\u001b[0m \u001b[32m━━━━━━━━━━━━━━━━━━━━\u001b[0m\u001b[37m\u001b[0m \u001b[1m21s\u001b[0m 19ms/step - accuracy: 0.5359 - loss: 1.0928 - val_accuracy: 0.5428 - val_loss: 1.0781 - learning_rate: 0.0010\n",
            "Epoch 17/80\n",
            "\u001b[1m619/619\u001b[0m \u001b[32m━━━━━━━━━━━━━━━━━━━━\u001b[0m\u001b[37m\u001b[0m \u001b[1m12s\u001b[0m 19ms/step - accuracy: 0.5664 - loss: 1.0368 - val_accuracy: 0.5910 - val_loss: 0.9799 - learning_rate: 0.0010\n",
            "Epoch 18/80\n",
            "\u001b[1m619/619\u001b[0m \u001b[32m━━━━━━━━━━━━━━━━━━━━\u001b[0m\u001b[37m\u001b[0m \u001b[1m21s\u001b[0m 20ms/step - accuracy: 0.6092 - loss: 0.9600 - val_accuracy: 0.6166 - val_loss: 0.9286 - learning_rate: 0.0010\n",
            "Epoch 19/80\n",
            "\u001b[1m619/619\u001b[0m \u001b[32m━━━━━━━━━━━━━━━━━━━━\u001b[0m\u001b[37m\u001b[0m \u001b[1m20s\u001b[0m 20ms/step - accuracy: 0.6468 - loss: 0.8942 - val_accuracy: 0.6487 - val_loss: 0.8658 - learning_rate: 0.0010\n",
            "Epoch 20/80\n",
            "\u001b[1m619/619\u001b[0m \u001b[32m━━━━━━━━━━━━━━━━━━━━\u001b[0m\u001b[37m\u001b[0m \u001b[1m20s\u001b[0m 20ms/step - accuracy: 0.6647 - loss: 0.8450 - val_accuracy: 0.6893 - val_loss: 0.7912 - learning_rate: 0.0010\n",
            "Epoch 21/80\n",
            "\u001b[1m619/619\u001b[0m \u001b[32m━━━━━━━━━━━━━━━━━━━━\u001b[0m\u001b[37m\u001b[0m \u001b[1m20s\u001b[0m 19ms/step - accuracy: 0.6989 - loss: 0.7752 - val_accuracy: 0.7104 - val_loss: 0.7370 - learning_rate: 0.0010\n",
            "Epoch 22/80\n",
            "\u001b[1m619/619\u001b[0m \u001b[32m━━━━━━━━━━━━━━━━━━━━\u001b[0m\u001b[37m\u001b[0m \u001b[1m21s\u001b[0m 20ms/step - accuracy: 0.7192 - loss: 0.7324 - val_accuracy: 0.7320 - val_loss: 0.6846 - learning_rate: 0.0010\n",
            "Epoch 23/80\n",
            "\u001b[1m619/619\u001b[0m \u001b[32m━━━━━━━━━━━━━━━━━━━━\u001b[0m\u001b[37m\u001b[0m \u001b[1m20s\u001b[0m 19ms/step - accuracy: 0.7443 - loss: 0.6717 - val_accuracy: 0.7411 - val_loss: 0.6608 - learning_rate: 0.0010\n",
            "Epoch 24/80\n",
            "\u001b[1m619/619\u001b[0m \u001b[32m━━━━━━━━━━━━━━━━━━━━\u001b[0m\u001b[37m\u001b[0m \u001b[1m12s\u001b[0m 19ms/step - accuracy: 0.7630 - loss: 0.6314 - val_accuracy: 0.7830 - val_loss: 0.5839 - learning_rate: 0.0010\n",
            "Epoch 25/80\n",
            "\u001b[1m619/619\u001b[0m \u001b[32m━━━━━━━━━━━━━━━━━━━━\u001b[0m\u001b[37m\u001b[0m \u001b[1m20s\u001b[0m 19ms/step - accuracy: 0.7754 - loss: 0.6085 - val_accuracy: 0.7919 - val_loss: 0.5487 - learning_rate: 0.0010\n",
            "Epoch 26/80\n",
            "\u001b[1m619/619\u001b[0m \u001b[32m━━━━━━━━━━━━━━━━━━━━\u001b[0m\u001b[37m\u001b[0m \u001b[1m12s\u001b[0m 19ms/step - accuracy: 0.7946 - loss: 0.5583 - val_accuracy: 0.8028 - val_loss: 0.5274 - learning_rate: 0.0010\n",
            "Epoch 27/80\n",
            "\u001b[1m619/619\u001b[0m \u001b[32m━━━━━━━━━━━━━━━━━━━━\u001b[0m\u001b[37m\u001b[0m \u001b[1m12s\u001b[0m 19ms/step - accuracy: 0.8096 - loss: 0.5275 - val_accuracy: 0.8117 - val_loss: 0.5024 - learning_rate: 0.0010\n",
            "Epoch 28/80\n",
            "\u001b[1m619/619\u001b[0m \u001b[32m━━━━━━━━━━━━━━━━━━━━\u001b[0m\u001b[37m\u001b[0m \u001b[1m12s\u001b[0m 19ms/step - accuracy: 0.8255 - loss: 0.4831 - val_accuracy: 0.8280 - val_loss: 0.4638 - learning_rate: 0.0010\n",
            "Epoch 29/80\n",
            "\u001b[1m619/619\u001b[0m \u001b[32m━━━━━━━━━━━━━━━━━━━━\u001b[0m\u001b[37m\u001b[0m \u001b[1m21s\u001b[0m 20ms/step - accuracy: 0.8400 - loss: 0.4598 - val_accuracy: 0.8462 - val_loss: 0.4243 - learning_rate: 0.0010\n",
            "Epoch 30/80\n",
            "\u001b[1m619/619\u001b[0m \u001b[32m━━━━━━━━━━━━━━━━━━━━\u001b[0m\u001b[37m\u001b[0m \u001b[1m20s\u001b[0m 19ms/step - accuracy: 0.8424 - loss: 0.4385 - val_accuracy: 0.8433 - val_loss: 0.4396 - learning_rate: 0.0010\n",
            "Epoch 31/80\n",
            "\u001b[1m619/619\u001b[0m \u001b[32m━━━━━━━━━━━━━━━━━━━━\u001b[0m\u001b[37m\u001b[0m \u001b[1m22s\u001b[0m 21ms/step - accuracy: 0.8537 - loss: 0.4100 - val_accuracy: 0.8528 - val_loss: 0.4098 - learning_rate: 0.0010\n",
            "Epoch 32/80\n",
            "\u001b[1m619/619\u001b[0m \u001b[32m━━━━━━━━━━━━━━━━━━━━\u001b[0m\u001b[37m\u001b[0m \u001b[1m19s\u001b[0m 19ms/step - accuracy: 0.8631 - loss: 0.3922 - val_accuracy: 0.8594 - val_loss: 0.3855 - learning_rate: 0.0010\n",
            "Epoch 33/80\n",
            "\u001b[1m619/619\u001b[0m \u001b[32m━━━━━━━━━━━━━━━━━━━━\u001b[0m\u001b[37m\u001b[0m \u001b[1m21s\u001b[0m 20ms/step - accuracy: 0.8716 - loss: 0.3680 - val_accuracy: 0.8724 - val_loss: 0.3686 - learning_rate: 0.0010\n",
            "Epoch 34/80\n",
            "\u001b[1m619/619\u001b[0m \u001b[32m━━━━━━━━━━━━━━━━━━━━\u001b[0m\u001b[37m\u001b[0m \u001b[1m12s\u001b[0m 19ms/step - accuracy: 0.8814 - loss: 0.3488 - val_accuracy: 0.8802 - val_loss: 0.3457 - learning_rate: 0.0010\n",
            "Epoch 35/80\n",
            "\u001b[1m619/619\u001b[0m \u001b[32m━━━━━━━━━━━━━━━━━━━━\u001b[0m\u001b[37m\u001b[0m \u001b[1m21s\u001b[0m 19ms/step - accuracy: 0.8832 - loss: 0.3367 - val_accuracy: 0.8811 - val_loss: 0.3403 - learning_rate: 0.0010\n",
            "Epoch 36/80\n",
            "\u001b[1m619/619\u001b[0m \u001b[32m━━━━━━━━━━━━━━━━━━━━\u001b[0m\u001b[37m\u001b[0m \u001b[1m12s\u001b[0m 20ms/step - accuracy: 0.8882 - loss: 0.3212 - val_accuracy: 0.8873 - val_loss: 0.3337 - learning_rate: 0.0010\n",
            "Epoch 37/80\n",
            "\u001b[1m619/619\u001b[0m \u001b[32m━━━━━━━━━━━━━━━━━━━━\u001b[0m\u001b[37m\u001b[0m \u001b[1m20s\u001b[0m 19ms/step - accuracy: 0.8951 - loss: 0.3105 - val_accuracy: 0.9077 - val_loss: 0.2689 - learning_rate: 0.0010\n",
            "Epoch 38/80\n",
            "\u001b[1m619/619\u001b[0m \u001b[32m━━━━━━━━━━━━━━━━━━━━\u001b[0m\u001b[37m\u001b[0m \u001b[1m21s\u001b[0m 20ms/step - accuracy: 0.8990 - loss: 0.2945 - val_accuracy: 0.9017 - val_loss: 0.2805 - learning_rate: 0.0010\n",
            "Epoch 39/80\n",
            "\u001b[1m619/619\u001b[0m \u001b[32m━━━━━━━━━━━━━━━━━━━━\u001b[0m\u001b[37m\u001b[0m \u001b[1m12s\u001b[0m 19ms/step - accuracy: 0.9067 - loss: 0.2770 - val_accuracy: 0.9055 - val_loss: 0.2786 - learning_rate: 0.0010\n",
            "Epoch 40/80\n",
            "\u001b[1m619/619\u001b[0m \u001b[32m━━━━━━━━━━━━━━━━━━━━\u001b[0m\u001b[37m\u001b[0m \u001b[1m20s\u001b[0m 19ms/step - accuracy: 0.9111 - loss: 0.2643 - val_accuracy: 0.9129 - val_loss: 0.2570 - learning_rate: 0.0010\n",
            "Epoch 41/80\n",
            "\u001b[1m619/619\u001b[0m \u001b[32m━━━━━━━━━━━━━━━━━━━━\u001b[0m\u001b[37m\u001b[0m \u001b[1m21s\u001b[0m 19ms/step - accuracy: 0.9158 - loss: 0.2579 - val_accuracy: 0.9136 - val_loss: 0.2577 - learning_rate: 0.0010\n",
            "Epoch 42/80\n",
            "\u001b[1m619/619\u001b[0m \u001b[32m━━━━━━━━━━━━━━━━━━━━\u001b[0m\u001b[37m\u001b[0m \u001b[1m20s\u001b[0m 19ms/step - accuracy: 0.9158 - loss: 0.2528 - val_accuracy: 0.9133 - val_loss: 0.2532 - learning_rate: 0.0010\n",
            "Epoch 43/80\n",
            "\u001b[1m619/619\u001b[0m \u001b[32m━━━━━━━━━━━━━━━━━━━━\u001b[0m\u001b[37m\u001b[0m \u001b[1m21s\u001b[0m 19ms/step - accuracy: 0.9214 - loss: 0.2400 - val_accuracy: 0.9175 - val_loss: 0.2534 - learning_rate: 0.0010\n",
            "Epoch 44/80\n",
            "\u001b[1m619/619\u001b[0m \u001b[32m━━━━━━━━━━━━━━━━━━━━\u001b[0m\u001b[37m\u001b[0m \u001b[1m20s\u001b[0m 19ms/step - accuracy: 0.9226 - loss: 0.2382 - val_accuracy: 0.9209 - val_loss: 0.2402 - learning_rate: 0.0010\n",
            "Epoch 45/80\n",
            "\u001b[1m619/619\u001b[0m \u001b[32m━━━━━━━━━━━━━━━━━━━━\u001b[0m\u001b[37m\u001b[0m \u001b[1m12s\u001b[0m 19ms/step - accuracy: 0.9292 - loss: 0.2219 - val_accuracy: 0.9263 - val_loss: 0.2291 - learning_rate: 0.0010\n",
            "Epoch 46/80\n",
            "\u001b[1m619/619\u001b[0m \u001b[32m━━━━━━━━━━━━━━━━━━━━\u001b[0m\u001b[37m\u001b[0m \u001b[1m12s\u001b[0m 19ms/step - accuracy: 0.9272 - loss: 0.2241 - val_accuracy: 0.9268 - val_loss: 0.2328 - learning_rate: 0.0010\n",
            "Epoch 47/80\n",
            "\u001b[1m619/619\u001b[0m \u001b[32m━━━━━━━━━━━━━━━━━━━━\u001b[0m\u001b[37m\u001b[0m \u001b[1m20s\u001b[0m 19ms/step - accuracy: 0.9327 - loss: 0.2110 - val_accuracy: 0.9281 - val_loss: 0.2180 - learning_rate: 0.0010\n",
            "Epoch 48/80\n",
            "\u001b[1m619/619\u001b[0m \u001b[32m━━━━━━━━━━━━━━━━━━━━\u001b[0m\u001b[37m\u001b[0m \u001b[1m21s\u001b[0m 20ms/step - accuracy: 0.9324 - loss: 0.2059 - val_accuracy: 0.9321 - val_loss: 0.2135 - learning_rate: 0.0010\n",
            "Epoch 49/80\n",
            "\u001b[1m619/619\u001b[0m \u001b[32m━━━━━━━━━━━━━━━━━━━━\u001b[0m\u001b[37m\u001b[0m \u001b[1m20s\u001b[0m 20ms/step - accuracy: 0.9382 - loss: 0.1898 - val_accuracy: 0.9363 - val_loss: 0.2039 - learning_rate: 0.0010\n",
            "Epoch 50/80\n",
            "\u001b[1m619/619\u001b[0m \u001b[32m━━━━━━━━━━━━━━━━━━━━\u001b[0m\u001b[37m\u001b[0m \u001b[1m21s\u001b[0m 20ms/step - accuracy: 0.9388 - loss: 0.1879 - val_accuracy: 0.9398 - val_loss: 0.1946 - learning_rate: 0.0010\n",
            "Epoch 51/80\n",
            "\u001b[1m619/619\u001b[0m \u001b[32m━━━━━━━━━━━━━━━━━━━━\u001b[0m\u001b[37m\u001b[0m \u001b[1m20s\u001b[0m 19ms/step - accuracy: 0.9420 - loss: 0.1803 - val_accuracy: 0.9393 - val_loss: 0.1857 - learning_rate: 0.0010\n",
            "Epoch 52/80\n",
            "\u001b[1m619/619\u001b[0m \u001b[32m━━━━━━━━━━━━━━━━━━━━\u001b[0m\u001b[37m\u001b[0m \u001b[1m21s\u001b[0m 20ms/step - accuracy: 0.9444 - loss: 0.1712 - val_accuracy: 0.9377 - val_loss: 0.2002 - learning_rate: 0.0010\n",
            "Epoch 53/80\n",
            "\u001b[1m619/619\u001b[0m \u001b[32m━━━━━━━━━━━━━━━━━━━━\u001b[0m\u001b[37m\u001b[0m \u001b[1m12s\u001b[0m 20ms/step - accuracy: 0.9432 - loss: 0.1762 - val_accuracy: 0.9484 - val_loss: 0.1661 - learning_rate: 0.0010\n",
            "Epoch 54/80\n",
            "\u001b[1m619/619\u001b[0m \u001b[32m━━━━━━━━━━━━━━━━━━━━\u001b[0m\u001b[37m\u001b[0m \u001b[1m21s\u001b[0m 21ms/step - accuracy: 0.9467 - loss: 0.1679 - val_accuracy: 0.9438 - val_loss: 0.1812 - learning_rate: 0.0010\n",
            "Epoch 55/80\n",
            "\u001b[1m619/619\u001b[0m \u001b[32m━━━━━━━━━━━━━━━━━━━━\u001b[0m\u001b[37m\u001b[0m \u001b[1m12s\u001b[0m 19ms/step - accuracy: 0.9483 - loss: 0.1643 - val_accuracy: 0.9324 - val_loss: 0.2143 - learning_rate: 0.0010\n",
            "Epoch 56/80\n",
            "\u001b[1m619/619\u001b[0m \u001b[32m━━━━━━━━━━━━━━━━━━━━\u001b[0m\u001b[37m\u001b[0m \u001b[1m12s\u001b[0m 19ms/step - accuracy: 0.9507 - loss: 0.1600 - val_accuracy: 0.9332 - val_loss: 0.2206 - learning_rate: 0.0010\n",
            "Epoch 57/80\n",
            "\u001b[1m619/619\u001b[0m \u001b[32m━━━━━━━━━━━━━━━━━━━━\u001b[0m\u001b[37m\u001b[0m \u001b[1m12s\u001b[0m 19ms/step - accuracy: 0.9493 - loss: 0.1626 - val_accuracy: 0.9412 - val_loss: 0.1969 - learning_rate: 0.0010\n",
            "Epoch 58/80\n",
            "\u001b[1m619/619\u001b[0m \u001b[32m━━━━━━━━━━━━━━━━━━━━\u001b[0m\u001b[37m\u001b[0m \u001b[1m12s\u001b[0m 19ms/step - accuracy: 0.9519 - loss: 0.1461 - val_accuracy: 0.9442 - val_loss: 0.1893 - learning_rate: 0.0010\n",
            "Epoch 59/80\n",
            "\u001b[1m619/619\u001b[0m \u001b[32m━━━━━━━━━━━━━━━━━━━━\u001b[0m\u001b[37m\u001b[0m \u001b[1m12s\u001b[0m 19ms/step - accuracy: 0.9625 - loss: 0.1210 - val_accuracy: 0.9585 - val_loss: 0.1453 - learning_rate: 5.0000e-04\n",
            "Epoch 60/80\n",
            "\u001b[1m619/619\u001b[0m \u001b[32m━━━━━━━━━━━━━━━━━━━━\u001b[0m\u001b[37m\u001b[0m \u001b[1m12s\u001b[0m 20ms/step - accuracy: 0.9677 - loss: 0.1054 - val_accuracy: 0.9625 - val_loss: 0.1357 - learning_rate: 5.0000e-04\n",
            "Epoch 61/80\n",
            "\u001b[1m619/619\u001b[0m \u001b[32m━━━━━━━━━━━━━━━━━━━━\u001b[0m\u001b[37m\u001b[0m \u001b[1m20s\u001b[0m 20ms/step - accuracy: 0.9701 - loss: 0.0991 - val_accuracy: 0.9607 - val_loss: 0.1402 - learning_rate: 5.0000e-04\n",
            "Epoch 62/80\n",
            "\u001b[1m619/619\u001b[0m \u001b[32m━━━━━━━━━━━━━━━━━━━━\u001b[0m\u001b[37m\u001b[0m \u001b[1m20s\u001b[0m 19ms/step - accuracy: 0.9704 - loss: 0.0966 - val_accuracy: 0.9624 - val_loss: 0.1383 - learning_rate: 5.0000e-04\n",
            "Epoch 63/80\n",
            "\u001b[1m619/619\u001b[0m \u001b[32m━━━━━━━━━━━━━━━━━━━━\u001b[0m\u001b[37m\u001b[0m \u001b[1m12s\u001b[0m 20ms/step - accuracy: 0.9720 - loss: 0.0914 - val_accuracy: 0.9594 - val_loss: 0.1453 - learning_rate: 5.0000e-04\n",
            "Epoch 64/80\n",
            "\u001b[1m619/619\u001b[0m \u001b[32m━━━━━━━━━━━━━━━━━━━━\u001b[0m\u001b[37m\u001b[0m \u001b[1m12s\u001b[0m 19ms/step - accuracy: 0.9724 - loss: 0.0936 - val_accuracy: 0.9619 - val_loss: 0.1352 - learning_rate: 5.0000e-04\n",
            "Epoch 65/80\n",
            "\u001b[1m619/619\u001b[0m \u001b[32m━━━━━━━━━━━━━━━━━━━━\u001b[0m\u001b[37m\u001b[0m \u001b[1m20s\u001b[0m 19ms/step - accuracy: 0.9704 - loss: 0.0969 - val_accuracy: 0.9640 - val_loss: 0.1266 - learning_rate: 5.0000e-04\n",
            "Epoch 66/80\n",
            "\u001b[1m619/619\u001b[0m \u001b[32m━━━━━━━━━━━━━━━━━━━━\u001b[0m\u001b[37m\u001b[0m \u001b[1m21s\u001b[0m 19ms/step - accuracy: 0.9734 - loss: 0.0860 - val_accuracy: 0.9665 - val_loss: 0.1273 - learning_rate: 5.0000e-04\n",
            "Epoch 67/80\n",
            "\u001b[1m619/619\u001b[0m \u001b[32m━━━━━━━━━━━━━━━━━━━━\u001b[0m\u001b[37m\u001b[0m \u001b[1m21s\u001b[0m 20ms/step - accuracy: 0.9738 - loss: 0.0888 - val_accuracy: 0.9640 - val_loss: 0.1318 - learning_rate: 5.0000e-04\n",
            "Epoch 68/80\n",
            "\u001b[1m619/619\u001b[0m \u001b[32m━━━━━━━━━━━━━━━━━━━━\u001b[0m\u001b[37m\u001b[0m \u001b[1m20s\u001b[0m 19ms/step - accuracy: 0.9729 - loss: 0.0876 - val_accuracy: 0.9664 - val_loss: 0.1237 - learning_rate: 5.0000e-04\n",
            "Epoch 69/80\n",
            "\u001b[1m619/619\u001b[0m \u001b[32m━━━━━━━━━━━━━━━━━━━━\u001b[0m\u001b[37m\u001b[0m \u001b[1m20s\u001b[0m 19ms/step - accuracy: 0.9738 - loss: 0.0877 - val_accuracy: 0.9632 - val_loss: 0.1326 - learning_rate: 5.0000e-04\n",
            "Epoch 70/80\n",
            "\u001b[1m619/619\u001b[0m \u001b[32m━━━━━━━━━━━━━━━━━━━━\u001b[0m\u001b[37m\u001b[0m \u001b[1m21s\u001b[0m 20ms/step - accuracy: 0.9765 - loss: 0.0791 - val_accuracy: 0.9681 - val_loss: 0.1173 - learning_rate: 5.0000e-04\n",
            "Epoch 71/80\n",
            "\u001b[1m619/619\u001b[0m \u001b[32m━━━━━━━━━━━━━━━━━━━━\u001b[0m\u001b[37m\u001b[0m \u001b[1m20s\u001b[0m 19ms/step - accuracy: 0.9748 - loss: 0.0842 - val_accuracy: 0.9661 - val_loss: 0.1309 - learning_rate: 5.0000e-04\n",
            "Epoch 72/80\n",
            "\u001b[1m619/619\u001b[0m \u001b[32m━━━━━━━━━━━━━━━━━━━━\u001b[0m\u001b[37m\u001b[0m \u001b[1m21s\u001b[0m 20ms/step - accuracy: 0.9764 - loss: 0.0788 - val_accuracy: 0.9673 - val_loss: 0.1196 - learning_rate: 5.0000e-04\n",
            "Epoch 73/80\n",
            "\u001b[1m619/619\u001b[0m \u001b[32m━━━━━━━━━━━━━━━━━━━━\u001b[0m\u001b[37m\u001b[0m \u001b[1m12s\u001b[0m 19ms/step - accuracy: 0.9746 - loss: 0.0857 - val_accuracy: 0.9691 - val_loss: 0.1114 - learning_rate: 5.0000e-04\n",
            "Epoch 74/80\n",
            "\u001b[1m619/619\u001b[0m \u001b[32m━━━━━━━━━━━━━━━━━━━━\u001b[0m\u001b[37m\u001b[0m \u001b[1m21s\u001b[0m 20ms/step - accuracy: 0.9788 - loss: 0.0714 - val_accuracy: 0.9646 - val_loss: 0.1305 - learning_rate: 5.0000e-04\n",
            "Epoch 75/80\n",
            "\u001b[1m619/619\u001b[0m \u001b[32m━━━━━━━━━━━━━━━━━━━━\u001b[0m\u001b[37m\u001b[0m \u001b[1m20s\u001b[0m 19ms/step - accuracy: 0.9784 - loss: 0.0730 - val_accuracy: 0.9649 - val_loss: 0.1290 - learning_rate: 5.0000e-04\n",
            "Epoch 76/80\n",
            "\u001b[1m619/619\u001b[0m \u001b[32m━━━━━━━━━━━━━━━━━━━━\u001b[0m\u001b[37m\u001b[0m \u001b[1m21s\u001b[0m 20ms/step - accuracy: 0.9771 - loss: 0.0754 - val_accuracy: 0.9662 - val_loss: 0.1248 - learning_rate: 5.0000e-04\n",
            "Epoch 77/80\n",
            "\u001b[1m619/619\u001b[0m \u001b[32m━━━━━━━━━━━━━━━━━━━━\u001b[0m\u001b[37m\u001b[0m \u001b[1m12s\u001b[0m 19ms/step - accuracy: 0.9766 - loss: 0.0788 - val_accuracy: 0.9672 - val_loss: 0.1239 - learning_rate: 5.0000e-04\n",
            "Epoch 78/80\n",
            "\u001b[1m619/619\u001b[0m \u001b[32m━━━━━━━━━━━━━━━━━━━━\u001b[0m\u001b[37m\u001b[0m \u001b[1m12s\u001b[0m 20ms/step - accuracy: 0.9785 - loss: 0.0727 - val_accuracy: 0.9655 - val_loss: 0.1261 - learning_rate: 5.0000e-04\n",
            "Epoch 79/80\n",
            "\u001b[1m619/619\u001b[0m \u001b[32m━━━━━━━━━━━━━━━━━━━━\u001b[0m\u001b[37m\u001b[0m \u001b[1m21s\u001b[0m 20ms/step - accuracy: 0.9808 - loss: 0.0654 - val_accuracy: 0.9719 - val_loss: 0.1032 - learning_rate: 2.5000e-04\n",
            "Epoch 80/80\n",
            "\u001b[1m619/619\u001b[0m \u001b[32m━━━━━━━━━━━━━━━━━━━━\u001b[0m\u001b[37m\u001b[0m \u001b[1m20s\u001b[0m 20ms/step - accuracy: 0.9834 - loss: 0.0543 - val_accuracy: 0.9720 - val_loss: 0.1044 - learning_rate: 2.5000e-04\n",
            "\u001b[1m310/310\u001b[0m \u001b[32m━━━━━━━━━━━━━━━━━━━━\u001b[0m\u001b[37m\u001b[0m \u001b[1m2s\u001b[0m 6ms/step - accuracy: 0.9741 - loss: 0.0958\n",
            "Human Model - Loss: 0.1032, Accuracy: 0.9719\n",
            "Epoch 1/80\n",
            "\u001b[1m449/449\u001b[0m \u001b[32m━━━━━━━━━━━━━━━━━━━━\u001b[0m\u001b[37m\u001b[0m \u001b[1m0s\u001b[0m 27ms/step - accuracy: 0.0916 - loss: 3.0852"
          ]
        },
        {
          "output_type": "stream",
          "name": "stderr",
          "text": [
            "WARNING:absl:You are saving your model as an HDF5 file via `model.save()` or `keras.saving.save_model(model)`. This file format is considered legacy. We recommend using instead the native Keras format, e.g. `model.save('my_model.keras')` or `keras.saving.save_model(model, 'my_model.keras')`. \n"
          ]
        },
        {
          "output_type": "stream",
          "name": "stdout",
          "text": [
            "\b\b\b\b\b\b\b\b\b\b\b\b\b\b\b\b\b\b\b\b\b\b\b\b\b\b\b\b\b\b\b\b\b\b\b\b\b\b\b\b\b\b\b\b\b\b\b\b\b\b\b\b\b\b\b\b\b\b\b\b\b\b\b\b\b\b\b\b\b\b\b\b\b\b\b\r\u001b[1m449/449\u001b[0m \u001b[32m━━━━━━━━━━━━━━━━━━━━\u001b[0m\u001b[37m\u001b[0m \u001b[1m28s\u001b[0m 34ms/step - accuracy: 0.0917 - loss: 3.0846 - val_accuracy: 0.3806 - val_loss: 1.8671 - learning_rate: 5.0000e-04\n",
            "Epoch 2/80\n",
            "\u001b[1m449/449\u001b[0m \u001b[32m━━━━━━━━━━━━━━━━━━━━\u001b[0m\u001b[37m\u001b[0m \u001b[1m0s\u001b[0m 27ms/step - accuracy: 0.2757 - loss: 2.1381"
          ]
        },
        {
          "output_type": "stream",
          "name": "stderr",
          "text": [
            "WARNING:absl:You are saving your model as an HDF5 file via `model.save()` or `keras.saving.save_model(model)`. This file format is considered legacy. We recommend using instead the native Keras format, e.g. `model.save('my_model.keras')` or `keras.saving.save_model(model, 'my_model.keras')`. \n"
          ]
        },
        {
          "output_type": "stream",
          "name": "stdout",
          "text": [
            "\b\b\b\b\b\b\b\b\b\b\b\b\b\b\b\b\b\b\b\b\b\b\b\b\b\b\b\b\b\b\b\b\b\b\b\b\b\b\b\b\b\b\b\b\b\b\b\b\b\b\b\b\b\b\b\b\b\b\b\b\b\b\b\b\b\b\b\b\b\b\b\b\b\b\b\r\u001b[1m449/449\u001b[0m \u001b[32m━━━━━━━━━━━━━━━━━━━━\u001b[0m\u001b[37m\u001b[0m \u001b[1m14s\u001b[0m 30ms/step - accuracy: 0.2757 - loss: 2.1378 - val_accuracy: 0.5035 - val_loss: 1.3865 - learning_rate: 5.0000e-04\n",
            "Epoch 3/80\n",
            "\u001b[1m448/449\u001b[0m \u001b[32m━━━━━━━━━━━━━━━━━━━\u001b[0m\u001b[37m━\u001b[0m \u001b[1m0s\u001b[0m 27ms/step - accuracy: 0.3748 - loss: 1.7363"
          ]
        },
        {
          "output_type": "stream",
          "name": "stderr",
          "text": [
            "WARNING:absl:You are saving your model as an HDF5 file via `model.save()` or `keras.saving.save_model(model)`. This file format is considered legacy. We recommend using instead the native Keras format, e.g. `model.save('my_model.keras')` or `keras.saving.save_model(model, 'my_model.keras')`. \n"
          ]
        },
        {
          "output_type": "stream",
          "name": "stdout",
          "text": [
            "\b\b\b\b\b\b\b\b\b\b\b\b\b\b\b\b\b\b\b\b\b\b\b\b\b\b\b\b\b\b\b\b\b\b\b\b\b\b\b\b\b\b\b\b\b\b\b\b\b\b\b\b\b\b\b\b\b\b\b\b\b\b\b\b\b\b\b\b\b\b\b\b\b\b\b\r\u001b[1m449/449\u001b[0m \u001b[32m━━━━━━━━━━━━━━━━━━━━\u001b[0m\u001b[37m\u001b[0m \u001b[1m21s\u001b[0m 31ms/step - accuracy: 0.3748 - loss: 1.7361 - val_accuracy: 0.5938 - val_loss: 1.1282 - learning_rate: 5.0000e-04\n",
            "Epoch 4/80\n",
            "\u001b[1m448/449\u001b[0m \u001b[32m━━━━━━━━━━━━━━━━━━━\u001b[0m\u001b[37m━\u001b[0m \u001b[1m0s\u001b[0m 27ms/step - accuracy: 0.4519 - loss: 1.4922"
          ]
        },
        {
          "output_type": "stream",
          "name": "stderr",
          "text": [
            "WARNING:absl:You are saving your model as an HDF5 file via `model.save()` or `keras.saving.save_model(model)`. This file format is considered legacy. We recommend using instead the native Keras format, e.g. `model.save('my_model.keras')` or `keras.saving.save_model(model, 'my_model.keras')`. \n"
          ]
        },
        {
          "output_type": "stream",
          "name": "stdout",
          "text": [
            "\b\b\b\b\b\b\b\b\b\b\b\b\b\b\b\b\b\b\b\b\b\b\b\b\b\b\b\b\b\b\b\b\b\b\b\b\b\b\b\b\b\b\b\b\b\b\b\b\b\b\b\b\b\b\b\b\b\b\b\b\b\b\b\b\b\b\b\b\b\b\b\b\b\b\b\r\u001b[1m449/449\u001b[0m \u001b[32m━━━━━━━━━━━━━━━━━━━━\u001b[0m\u001b[37m\u001b[0m \u001b[1m13s\u001b[0m 30ms/step - accuracy: 0.4519 - loss: 1.4920 - val_accuracy: 0.6425 - val_loss: 0.8919 - learning_rate: 5.0000e-04\n",
            "Epoch 5/80\n",
            "\u001b[1m449/449\u001b[0m \u001b[32m━━━━━━━━━━━━━━━━━━━━\u001b[0m\u001b[37m\u001b[0m \u001b[1m0s\u001b[0m 27ms/step - accuracy: 0.5061 - loss: 1.3166"
          ]
        },
        {
          "output_type": "stream",
          "name": "stderr",
          "text": [
            "WARNING:absl:You are saving your model as an HDF5 file via `model.save()` or `keras.saving.save_model(model)`. This file format is considered legacy. We recommend using instead the native Keras format, e.g. `model.save('my_model.keras')` or `keras.saving.save_model(model, 'my_model.keras')`. \n"
          ]
        },
        {
          "output_type": "stream",
          "name": "stdout",
          "text": [
            "\b\b\b\b\b\b\b\b\b\b\b\b\b\b\b\b\b\b\b\b\b\b\b\b\b\b\b\b\b\b\b\b\b\b\b\b\b\b\b\b\b\b\b\b\b\b\b\b\b\b\b\b\b\b\b\b\b\b\b\b\b\b\b\b\b\b\b\b\b\b\b\b\b\b\b\r\u001b[1m449/449\u001b[0m \u001b[32m━━━━━━━━━━━━━━━━━━━━\u001b[0m\u001b[37m\u001b[0m \u001b[1m20s\u001b[0m 30ms/step - accuracy: 0.5061 - loss: 1.3165 - val_accuracy: 0.6489 - val_loss: 0.7887 - learning_rate: 5.0000e-04\n",
            "Epoch 6/80\n",
            "\u001b[1m449/449\u001b[0m \u001b[32m━━━━━━━━━━━━━━━━━━━━\u001b[0m\u001b[37m\u001b[0m \u001b[1m0s\u001b[0m 27ms/step - accuracy: 0.5246 - loss: 1.2076"
          ]
        },
        {
          "output_type": "stream",
          "name": "stderr",
          "text": [
            "WARNING:absl:You are saving your model as an HDF5 file via `model.save()` or `keras.saving.save_model(model)`. This file format is considered legacy. We recommend using instead the native Keras format, e.g. `model.save('my_model.keras')` or `keras.saving.save_model(model, 'my_model.keras')`. \n"
          ]
        },
        {
          "output_type": "stream",
          "name": "stdout",
          "text": [
            "\b\b\b\b\b\b\b\b\b\b\b\b\b\b\b\b\b\b\b\b\b\b\b\b\b\b\b\b\b\b\b\b\b\b\b\b\b\b\b\b\b\b\b\b\b\b\b\b\b\b\b\b\b\b\b\b\b\b\b\b\b\b\b\b\b\b\b\b\b\b\b\b\b\b\b\r\u001b[1m449/449\u001b[0m \u001b[32m━━━━━━━━━━━━━━━━━━━━\u001b[0m\u001b[37m\u001b[0m \u001b[1m21s\u001b[0m 30ms/step - accuracy: 0.5246 - loss: 1.2075 - val_accuracy: 0.6634 - val_loss: 0.7307 - learning_rate: 5.0000e-04\n",
            "Epoch 7/80\n",
            "\u001b[1m449/449\u001b[0m \u001b[32m━━━━━━━━━━━━━━━━━━━━\u001b[0m\u001b[37m\u001b[0m \u001b[1m13s\u001b[0m 30ms/step - accuracy: 0.5489 - loss: 1.1073 - val_accuracy: 0.6459 - val_loss: 0.6980 - learning_rate: 5.0000e-04\n",
            "Epoch 8/80\n",
            "\u001b[1m448/449\u001b[0m \u001b[32m━━━━━━━━━━━━━━━━━━━\u001b[0m\u001b[37m━\u001b[0m \u001b[1m0s\u001b[0m 27ms/step - accuracy: 0.5749 - loss: 1.0431"
          ]
        },
        {
          "output_type": "stream",
          "name": "stderr",
          "text": [
            "WARNING:absl:You are saving your model as an HDF5 file via `model.save()` or `keras.saving.save_model(model)`. This file format is considered legacy. We recommend using instead the native Keras format, e.g. `model.save('my_model.keras')` or `keras.saving.save_model(model, 'my_model.keras')`. \n"
          ]
        },
        {
          "output_type": "stream",
          "name": "stdout",
          "text": [
            "\b\b\b\b\b\b\b\b\b\b\b\b\b\b\b\b\b\b\b\b\b\b\b\b\b\b\b\b\b\b\b\b\b\b\b\b\b\b\b\b\b\b\b\b\b\b\b\b\b\b\b\b\b\b\b\b\b\b\b\b\b\b\b\b\b\b\b\b\b\b\b\b\b\b\b\r\u001b[1m449/449\u001b[0m \u001b[32m━━━━━━━━━━━━━━━━━━━━\u001b[0m\u001b[37m\u001b[0m \u001b[1m14s\u001b[0m 30ms/step - accuracy: 0.5749 - loss: 1.0431 - val_accuracy: 0.6824 - val_loss: 0.6734 - learning_rate: 5.0000e-04\n",
            "Epoch 9/80\n",
            "\u001b[1m449/449\u001b[0m \u001b[32m━━━━━━━━━━━━━━━━━━━━\u001b[0m\u001b[37m\u001b[0m \u001b[1m0s\u001b[0m 29ms/step - accuracy: 0.5882 - loss: 0.9898"
          ]
        },
        {
          "output_type": "stream",
          "name": "stderr",
          "text": [
            "WARNING:absl:You are saving your model as an HDF5 file via `model.save()` or `keras.saving.save_model(model)`. This file format is considered legacy. We recommend using instead the native Keras format, e.g. `model.save('my_model.keras')` or `keras.saving.save_model(model, 'my_model.keras')`. \n"
          ]
        },
        {
          "output_type": "stream",
          "name": "stdout",
          "text": [
            "\b\b\b\b\b\b\b\b\b\b\b\b\b\b\b\b\b\b\b\b\b\b\b\b\b\b\b\b\b\b\b\b\b\b\b\b\b\b\b\b\b\b\b\b\b\b\b\b\b\b\b\b\b\b\b\b\b\b\b\b\b\b\b\b\b\b\b\b\b\b\b\b\b\b\b\r\u001b[1m449/449\u001b[0m \u001b[32m━━━━━━━━━━━━━━━━━━━━\u001b[0m\u001b[37m\u001b[0m \u001b[1m21s\u001b[0m 31ms/step - accuracy: 0.5882 - loss: 0.9898 - val_accuracy: 0.7035 - val_loss: 0.6329 - learning_rate: 5.0000e-04\n",
            "Epoch 10/80\n",
            "\u001b[1m449/449\u001b[0m \u001b[32m━━━━━━━━━━━━━━━━━━━━\u001b[0m\u001b[37m\u001b[0m \u001b[1m20s\u001b[0m 30ms/step - accuracy: 0.6102 - loss: 0.9401 - val_accuracy: 0.7024 - val_loss: 0.5986 - learning_rate: 5.0000e-04\n",
            "Epoch 11/80\n",
            "\u001b[1m449/449\u001b[0m \u001b[32m━━━━━━━━━━━━━━━━━━━━\u001b[0m\u001b[37m\u001b[0m \u001b[1m20s\u001b[0m 29ms/step - accuracy: 0.6249 - loss: 0.8932 - val_accuracy: 0.7033 - val_loss: 0.5888 - learning_rate: 5.0000e-04\n",
            "Epoch 12/80\n",
            "\u001b[1m448/449\u001b[0m \u001b[32m━━━━━━━━━━━━━━━━━━━\u001b[0m\u001b[37m━\u001b[0m \u001b[1m0s\u001b[0m 28ms/step - accuracy: 0.6248 - loss: 0.8660"
          ]
        },
        {
          "output_type": "stream",
          "name": "stderr",
          "text": [
            "WARNING:absl:You are saving your model as an HDF5 file via `model.save()` or `keras.saving.save_model(model)`. This file format is considered legacy. We recommend using instead the native Keras format, e.g. `model.save('my_model.keras')` or `keras.saving.save_model(model, 'my_model.keras')`. \n"
          ]
        },
        {
          "output_type": "stream",
          "name": "stdout",
          "text": [
            "\b\b\b\b\b\b\b\b\b\b\b\b\b\b\b\b\b\b\b\b\b\b\b\b\b\b\b\b\b\b\b\b\b\b\b\b\b\b\b\b\b\b\b\b\b\b\b\b\b\b\b\b\b\b\b\b\b\b\b\b\b\b\b\b\b\b\b\b\b\b\b\b\b\b\b\r\u001b[1m449/449\u001b[0m \u001b[32m━━━━━━━━━━━━━━━━━━━━\u001b[0m\u001b[37m\u001b[0m \u001b[1m21s\u001b[0m 31ms/step - accuracy: 0.6248 - loss: 0.8659 - val_accuracy: 0.7403 - val_loss: 0.5717 - learning_rate: 5.0000e-04\n",
            "Epoch 13/80\n",
            "\u001b[1m449/449\u001b[0m \u001b[32m━━━━━━━━━━━━━━━━━━━━\u001b[0m\u001b[37m\u001b[0m \u001b[1m14s\u001b[0m 31ms/step - accuracy: 0.6464 - loss: 0.8279 - val_accuracy: 0.7222 - val_loss: 0.5679 - learning_rate: 5.0000e-04\n",
            "Epoch 14/80\n",
            "\u001b[1m449/449\u001b[0m \u001b[32m━━━━━━━━━━━━━━━━━━━━\u001b[0m\u001b[37m\u001b[0m \u001b[1m20s\u001b[0m 29ms/step - accuracy: 0.6587 - loss: 0.8028 - val_accuracy: 0.7258 - val_loss: 0.5532 - learning_rate: 5.0000e-04\n",
            "Epoch 15/80\n",
            "\u001b[1m449/449\u001b[0m \u001b[32m━━━━━━━━━━━━━━━━━━━━\u001b[0m\u001b[37m\u001b[0m \u001b[1m14s\u001b[0m 30ms/step - accuracy: 0.6674 - loss: 0.7895 - val_accuracy: 0.7189 - val_loss: 0.5648 - learning_rate: 5.0000e-04\n",
            "Epoch 16/80\n",
            "\u001b[1m449/449\u001b[0m \u001b[32m━━━━━━━━━━━━━━━━━━━━\u001b[0m\u001b[37m\u001b[0m \u001b[1m20s\u001b[0m 29ms/step - accuracy: 0.6737 - loss: 0.7635 - val_accuracy: 0.6935 - val_loss: 0.5865 - learning_rate: 5.0000e-04\n",
            "Epoch 17/80\n",
            "\u001b[1m449/449\u001b[0m \u001b[32m━━━━━━━━━━━━━━━━━━━━\u001b[0m\u001b[37m\u001b[0m \u001b[1m13s\u001b[0m 30ms/step - accuracy: 0.6874 - loss: 0.7294 - val_accuracy: 0.7219 - val_loss: 0.5720 - learning_rate: 5.0000e-04\n",
            "Epoch 18/80\n",
            "\u001b[1m447/449\u001b[0m \u001b[32m━━━━━━━━━━━━━━━━━━━\u001b[0m\u001b[37m━\u001b[0m \u001b[1m0s\u001b[0m 27ms/step - accuracy: 0.6945 - loss: 0.7297"
          ]
        },
        {
          "output_type": "stream",
          "name": "stderr",
          "text": [
            "WARNING:absl:You are saving your model as an HDF5 file via `model.save()` or `keras.saving.save_model(model)`. This file format is considered legacy. We recommend using instead the native Keras format, e.g. `model.save('my_model.keras')` or `keras.saving.save_model(model, 'my_model.keras')`. \n"
          ]
        },
        {
          "output_type": "stream",
          "name": "stdout",
          "text": [
            "\b\b\b\b\b\b\b\b\b\b\b\b\b\b\b\b\b\b\b\b\b\b\b\b\b\b\b\b\b\b\b\b\b\b\b\b\b\b\b\b\b\b\b\b\b\b\b\b\b\b\b\b\b\b\b\b\b\b\b\b\b\b\b\b\b\b\b\b\b\b\b\b\b\b\b\r\u001b[1m449/449\u001b[0m \u001b[32m━━━━━━━━━━━━━━━━━━━━\u001b[0m\u001b[37m\u001b[0m \u001b[1m22s\u001b[0m 33ms/step - accuracy: 0.6945 - loss: 0.7296 - val_accuracy: 0.7551 - val_loss: 0.5038 - learning_rate: 5.0000e-04\n",
            "Epoch 19/80\n",
            "\u001b[1m448/449\u001b[0m \u001b[32m━━━━━━━━━━━━━━━━━━━\u001b[0m\u001b[37m━\u001b[0m \u001b[1m0s\u001b[0m 27ms/step - accuracy: 0.7047 - loss: 0.6906"
          ]
        },
        {
          "output_type": "stream",
          "name": "stderr",
          "text": [
            "WARNING:absl:You are saving your model as an HDF5 file via `model.save()` or `keras.saving.save_model(model)`. This file format is considered legacy. We recommend using instead the native Keras format, e.g. `model.save('my_model.keras')` or `keras.saving.save_model(model, 'my_model.keras')`. \n"
          ]
        },
        {
          "output_type": "stream",
          "name": "stdout",
          "text": [
            "\b\b\b\b\b\b\b\b\b\b\b\b\b\b\b\b\b\b\b\b\b\b\b\b\b\b\b\b\b\b\b\b\b\b\b\b\b\b\b\b\b\b\b\b\b\b\b\b\b\b\b\b\b\b\b\b\b\b\b\b\b\b\b\b\b\b\b\b\b\b\b\b\b\b\b\r\u001b[1m449/449\u001b[0m \u001b[32m━━━━━━━━━━━━━━━━━━━━\u001b[0m\u001b[37m\u001b[0m \u001b[1m19s\u001b[0m 30ms/step - accuracy: 0.7047 - loss: 0.6906 - val_accuracy: 0.7916 - val_loss: 0.4537 - learning_rate: 5.0000e-04\n",
            "Epoch 20/80\n",
            "\u001b[1m449/449\u001b[0m \u001b[32m━━━━━━━━━━━━━━━━━━━━\u001b[0m\u001b[37m\u001b[0m \u001b[1m22s\u001b[0m 32ms/step - accuracy: 0.7006 - loss: 0.6915 - val_accuracy: 0.7763 - val_loss: 0.4789 - learning_rate: 5.0000e-04\n",
            "Epoch 21/80\n",
            "\u001b[1m449/449\u001b[0m \u001b[32m━━━━━━━━━━━━━━━━━━━━\u001b[0m\u001b[37m\u001b[0m \u001b[1m0s\u001b[0m 27ms/step - accuracy: 0.7210 - loss: 0.6696"
          ]
        },
        {
          "output_type": "stream",
          "name": "stderr",
          "text": [
            "WARNING:absl:You are saving your model as an HDF5 file via `model.save()` or `keras.saving.save_model(model)`. This file format is considered legacy. We recommend using instead the native Keras format, e.g. `model.save('my_model.keras')` or `keras.saving.save_model(model, 'my_model.keras')`. \n"
          ]
        },
        {
          "output_type": "stream",
          "name": "stdout",
          "text": [
            "\b\b\b\b\b\b\b\b\b\b\b\b\b\b\b\b\b\b\b\b\b\b\b\b\b\b\b\b\b\b\b\b\b\b\b\b\b\b\b\b\b\b\b\b\b\b\b\b\b\b\b\b\b\b\b\b\b\b\b\b\b\b\b\b\b\b\b\b\b\b\b\b\b\b\b\r\u001b[1m449/449\u001b[0m \u001b[32m━━━━━━━━━━━━━━━━━━━━\u001b[0m\u001b[37m\u001b[0m \u001b[1m13s\u001b[0m 30ms/step - accuracy: 0.7210 - loss: 0.6695 - val_accuracy: 0.7974 - val_loss: 0.4535 - learning_rate: 5.0000e-04\n",
            "Epoch 22/80\n",
            "\u001b[1m449/449\u001b[0m \u001b[32m━━━━━━━━━━━━━━━━━━━━\u001b[0m\u001b[37m\u001b[0m \u001b[1m0s\u001b[0m 27ms/step - accuracy: 0.7264 - loss: 0.6539"
          ]
        },
        {
          "output_type": "stream",
          "name": "stderr",
          "text": [
            "WARNING:absl:You are saving your model as an HDF5 file via `model.save()` or `keras.saving.save_model(model)`. This file format is considered legacy. We recommend using instead the native Keras format, e.g. `model.save('my_model.keras')` or `keras.saving.save_model(model, 'my_model.keras')`. \n"
          ]
        },
        {
          "output_type": "stream",
          "name": "stdout",
          "text": [
            "\b\b\b\b\b\b\b\b\b\b\b\b\b\b\b\b\b\b\b\b\b\b\b\b\b\b\b\b\b\b\b\b\b\b\b\b\b\b\b\b\b\b\b\b\b\b\b\b\b\b\b\b\b\b\b\b\b\b\b\b\b\b\b\b\b\b\b\b\b\b\b\b\b\b\b\r\u001b[1m449/449\u001b[0m \u001b[32m━━━━━━━━━━━━━━━━━━━━\u001b[0m\u001b[37m\u001b[0m \u001b[1m21s\u001b[0m 30ms/step - accuracy: 0.7264 - loss: 0.6539 - val_accuracy: 0.7991 - val_loss: 0.4321 - learning_rate: 5.0000e-04\n",
            "Epoch 23/80\n",
            "\u001b[1m449/449\u001b[0m \u001b[32m━━━━━━━━━━━━━━━━━━━━\u001b[0m\u001b[37m\u001b[0m \u001b[1m21s\u001b[0m 31ms/step - accuracy: 0.7323 - loss: 0.6231 - val_accuracy: 0.7986 - val_loss: 0.4136 - learning_rate: 5.0000e-04\n",
            "Epoch 24/80\n",
            "\u001b[1m449/449\u001b[0m \u001b[32m━━━━━━━━━━━━━━━━━━━━\u001b[0m\u001b[37m\u001b[0m \u001b[1m14s\u001b[0m 31ms/step - accuracy: 0.7299 - loss: 0.6284 - val_accuracy: 0.7947 - val_loss: 0.4147 - learning_rate: 5.0000e-04\n",
            "Epoch 25/80\n",
            "\u001b[1m448/449\u001b[0m \u001b[32m━━━━━━━━━━━━━━━━━━━\u001b[0m\u001b[37m━\u001b[0m \u001b[1m0s\u001b[0m 28ms/step - accuracy: 0.7462 - loss: 0.5968"
          ]
        },
        {
          "output_type": "stream",
          "name": "stderr",
          "text": [
            "WARNING:absl:You are saving your model as an HDF5 file via `model.save()` or `keras.saving.save_model(model)`. This file format is considered legacy. We recommend using instead the native Keras format, e.g. `model.save('my_model.keras')` or `keras.saving.save_model(model, 'my_model.keras')`. \n"
          ]
        },
        {
          "output_type": "stream",
          "name": "stdout",
          "text": [
            "\b\b\b\b\b\b\b\b\b\b\b\b\b\b\b\b\b\b\b\b\b\b\b\b\b\b\b\b\b\b\b\b\b\b\b\b\b\b\b\b\b\b\b\b\b\b\b\b\b\b\b\b\b\b\b\b\b\b\b\b\b\b\b\b\b\b\b\b\b\b\b\b\b\b\b\r\u001b[1m449/449\u001b[0m \u001b[32m━━━━━━━━━━━━━━━━━━━━\u001b[0m\u001b[37m\u001b[0m \u001b[1m20s\u001b[0m 31ms/step - accuracy: 0.7462 - loss: 0.5968 - val_accuracy: 0.8019 - val_loss: 0.3900 - learning_rate: 5.0000e-04\n",
            "Epoch 26/80\n",
            "\u001b[1m449/449\u001b[0m \u001b[32m━━━━━━━━━━━━━━━━━━━━\u001b[0m\u001b[37m\u001b[0m \u001b[1m20s\u001b[0m 31ms/step - accuracy: 0.7428 - loss: 0.6024 - val_accuracy: 0.7885 - val_loss: 0.4136 - learning_rate: 5.0000e-04\n",
            "Epoch 27/80\n",
            "\u001b[1m449/449\u001b[0m \u001b[32m━━━━━━━━━━━━━━━━━━━━\u001b[0m\u001b[37m\u001b[0m \u001b[1m20s\u001b[0m 30ms/step - accuracy: 0.7517 - loss: 0.5898 - val_accuracy: 0.7999 - val_loss: 0.4100 - learning_rate: 5.0000e-04\n",
            "Epoch 28/80\n",
            "\u001b[1m449/449\u001b[0m \u001b[32m━━━━━━━━━━━━━━━━━━━━\u001b[0m\u001b[37m\u001b[0m \u001b[1m21s\u001b[0m 31ms/step - accuracy: 0.7497 - loss: 0.5832 - val_accuracy: 0.8019 - val_loss: 0.3834 - learning_rate: 5.0000e-04\n",
            "Epoch 29/80\n",
            "\u001b[1m449/449\u001b[0m \u001b[32m━━━━━━━━━━━━━━━━━━━━\u001b[0m\u001b[37m\u001b[0m \u001b[1m0s\u001b[0m 28ms/step - accuracy: 0.7619 - loss: 0.5601"
          ]
        },
        {
          "output_type": "stream",
          "name": "stderr",
          "text": [
            "WARNING:absl:You are saving your model as an HDF5 file via `model.save()` or `keras.saving.save_model(model)`. This file format is considered legacy. We recommend using instead the native Keras format, e.g. `model.save('my_model.keras')` or `keras.saving.save_model(model, 'my_model.keras')`. \n"
          ]
        },
        {
          "output_type": "stream",
          "name": "stdout",
          "text": [
            "\b\b\b\b\b\b\b\b\b\b\b\b\b\b\b\b\b\b\b\b\b\b\b\b\b\b\b\b\b\b\b\b\b\b\b\b\b\b\b\b\b\b\b\b\b\b\b\b\b\b\b\b\b\b\b\b\b\b\b\b\b\b\b\b\b\b\b\b\b\b\b\b\b\b\b\r\u001b[1m449/449\u001b[0m \u001b[32m━━━━━━━━━━━━━━━━━━━━\u001b[0m\u001b[37m\u001b[0m \u001b[1m20s\u001b[0m 31ms/step - accuracy: 0.7619 - loss: 0.5602 - val_accuracy: 0.8077 - val_loss: 0.3735 - learning_rate: 5.0000e-04\n",
            "Epoch 30/80\n",
            "\u001b[1m449/449\u001b[0m \u001b[32m━━━━━━━━━━━━━━━━━━━━\u001b[0m\u001b[37m\u001b[0m \u001b[1m14s\u001b[0m 30ms/step - accuracy: 0.7621 - loss: 0.5486 - val_accuracy: 0.7999 - val_loss: 0.3844 - learning_rate: 5.0000e-04\n",
            "Epoch 31/80\n",
            "\u001b[1m449/449\u001b[0m \u001b[32m━━━━━━━━━━━━━━━━━━━━\u001b[0m\u001b[37m\u001b[0m \u001b[1m13s\u001b[0m 30ms/step - accuracy: 0.7598 - loss: 0.5512 - val_accuracy: 0.7916 - val_loss: 0.3883 - learning_rate: 5.0000e-04\n",
            "Epoch 32/80\n",
            "\u001b[1m449/449\u001b[0m \u001b[32m━━━━━━━━━━━━━━━━━━━━\u001b[0m\u001b[37m\u001b[0m \u001b[1m21s\u001b[0m 31ms/step - accuracy: 0.7647 - loss: 0.5476 - val_accuracy: 0.8075 - val_loss: 0.3711 - learning_rate: 5.0000e-04\n",
            "Epoch 33/80\n",
            "\u001b[1m449/449\u001b[0m \u001b[32m━━━━━━━━━━━━━━━━━━━━\u001b[0m\u001b[37m\u001b[0m \u001b[1m0s\u001b[0m 27ms/step - accuracy: 0.7692 - loss: 0.5405"
          ]
        },
        {
          "output_type": "stream",
          "name": "stderr",
          "text": [
            "WARNING:absl:You are saving your model as an HDF5 file via `model.save()` or `keras.saving.save_model(model)`. This file format is considered legacy. We recommend using instead the native Keras format, e.g. `model.save('my_model.keras')` or `keras.saving.save_model(model, 'my_model.keras')`. \n"
          ]
        },
        {
          "output_type": "stream",
          "name": "stdout",
          "text": [
            "\b\b\b\b\b\b\b\b\b\b\b\b\b\b\b\b\b\b\b\b\b\b\b\b\b\b\b\b\b\b\b\b\b\b\b\b\b\b\b\b\b\b\b\b\b\b\b\b\b\b\b\b\b\b\b\b\b\b\b\b\b\b\b\b\b\b\b\b\b\b\b\b\b\b\b\r\u001b[1m449/449\u001b[0m \u001b[32m━━━━━━━━━━━━━━━━━━━━\u001b[0m\u001b[37m\u001b[0m \u001b[1m20s\u001b[0m 31ms/step - accuracy: 0.7692 - loss: 0.5405 - val_accuracy: 0.8083 - val_loss: 0.3678 - learning_rate: 5.0000e-04\n",
            "Epoch 34/80\n",
            "\u001b[1m449/449\u001b[0m \u001b[32m━━━━━━━━━━━━━━━━━━━━\u001b[0m\u001b[37m\u001b[0m \u001b[1m0s\u001b[0m 27ms/step - accuracy: 0.7708 - loss: 0.5253"
          ]
        },
        {
          "output_type": "stream",
          "name": "stderr",
          "text": [
            "WARNING:absl:You are saving your model as an HDF5 file via `model.save()` or `keras.saving.save_model(model)`. This file format is considered legacy. We recommend using instead the native Keras format, e.g. `model.save('my_model.keras')` or `keras.saving.save_model(model, 'my_model.keras')`. \n"
          ]
        },
        {
          "output_type": "stream",
          "name": "stdout",
          "text": [
            "\b\b\b\b\b\b\b\b\b\b\b\b\b\b\b\b\b\b\b\b\b\b\b\b\b\b\b\b\b\b\b\b\b\b\b\b\b\b\b\b\b\b\b\b\b\b\b\b\b\b\b\b\b\b\b\b\b\b\b\b\b\b\b\b\b\b\b\b\b\b\b\b\b\b\b\r\u001b[1m449/449\u001b[0m \u001b[32m━━━━━━━━━━━━━━━━━━━━\u001b[0m\u001b[37m\u001b[0m \u001b[1m13s\u001b[0m 30ms/step - accuracy: 0.7708 - loss: 0.5252 - val_accuracy: 0.8086 - val_loss: 0.3689 - learning_rate: 5.0000e-04\n",
            "Epoch 35/80\n",
            "\u001b[1m449/449\u001b[0m \u001b[32m━━━━━━━━━━━━━━━━━━━━\u001b[0m\u001b[37m\u001b[0m \u001b[1m13s\u001b[0m 30ms/step - accuracy: 0.7746 - loss: 0.5195 - val_accuracy: 0.8080 - val_loss: 0.3700 - learning_rate: 5.0000e-04\n",
            "Epoch 36/80\n",
            "\u001b[1m449/449\u001b[0m \u001b[32m━━━━━━━━━━━━━━━━━━━━\u001b[0m\u001b[37m\u001b[0m \u001b[1m0s\u001b[0m 27ms/step - accuracy: 0.7698 - loss: 0.5220"
          ]
        },
        {
          "output_type": "stream",
          "name": "stderr",
          "text": [
            "WARNING:absl:You are saving your model as an HDF5 file via `model.save()` or `keras.saving.save_model(model)`. This file format is considered legacy. We recommend using instead the native Keras format, e.g. `model.save('my_model.keras')` or `keras.saving.save_model(model, 'my_model.keras')`. \n"
          ]
        },
        {
          "output_type": "stream",
          "name": "stdout",
          "text": [
            "\b\b\b\b\b\b\b\b\b\b\b\b\b\b\b\b\b\b\b\b\b\b\b\b\b\b\b\b\b\b\b\b\b\b\b\b\b\b\b\b\b\b\b\b\b\b\b\b\b\b\b\b\b\b\b\b\b\b\b\b\b\b\b\b\b\b\b\b\b\b\b\b\b\b\b\r\u001b[1m449/449\u001b[0m \u001b[32m━━━━━━━━━━━━━━━━━━━━\u001b[0m\u001b[37m\u001b[0m \u001b[1m20s\u001b[0m 30ms/step - accuracy: 0.7698 - loss: 0.5220 - val_accuracy: 0.8175 - val_loss: 0.3636 - learning_rate: 5.0000e-04\n",
            "Epoch 37/80\n",
            "\u001b[1m449/449\u001b[0m \u001b[32m━━━━━━━━━━━━━━━━━━━━\u001b[0m\u001b[37m\u001b[0m \u001b[1m14s\u001b[0m 30ms/step - accuracy: 0.7699 - loss: 0.5087 - val_accuracy: 0.8077 - val_loss: 0.3617 - learning_rate: 5.0000e-04\n",
            "Epoch 38/80\n",
            "\u001b[1m449/449\u001b[0m \u001b[32m━━━━━━━━━━━━━━━━━━━━\u001b[0m\u001b[37m\u001b[0m \u001b[1m20s\u001b[0m 30ms/step - accuracy: 0.7772 - loss: 0.5151 - val_accuracy: 0.8150 - val_loss: 0.3577 - learning_rate: 5.0000e-04\n",
            "Epoch 39/80\n",
            "\u001b[1m449/449\u001b[0m \u001b[32m━━━━━━━━━━━━━━━━━━━━\u001b[0m\u001b[37m\u001b[0m \u001b[1m13s\u001b[0m 29ms/step - accuracy: 0.7778 - loss: 0.5066 - val_accuracy: 0.8153 - val_loss: 0.3597 - learning_rate: 5.0000e-04\n",
            "Epoch 40/80\n",
            "\u001b[1m449/449\u001b[0m \u001b[32m━━━━━━━━━━━━━━━━━━━━\u001b[0m\u001b[37m\u001b[0m \u001b[1m21s\u001b[0m 31ms/step - accuracy: 0.7840 - loss: 0.4954 - val_accuracy: 0.8002 - val_loss: 0.3989 - learning_rate: 5.0000e-04\n",
            "Epoch 41/80\n",
            "\u001b[1m449/449\u001b[0m \u001b[32m━━━━━━━━━━━━━━━━━━━━\u001b[0m\u001b[37m\u001b[0m \u001b[1m14s\u001b[0m 30ms/step - accuracy: 0.7820 - loss: 0.4992 - val_accuracy: 0.8142 - val_loss: 0.3593 - learning_rate: 5.0000e-04\n",
            "Epoch 42/80\n",
            "\u001b[1m449/449\u001b[0m \u001b[32m━━━━━━━━━━━━━━━━━━━━\u001b[0m\u001b[37m\u001b[0m \u001b[1m13s\u001b[0m 30ms/step - accuracy: 0.7845 - loss: 0.4841 - val_accuracy: 0.8027 - val_loss: 0.3900 - learning_rate: 5.0000e-04\n",
            "Epoch 43/80\n",
            "\u001b[1m449/449\u001b[0m \u001b[32m━━━━━━━━━━━━━━━━━━━━\u001b[0m\u001b[37m\u001b[0m \u001b[1m13s\u001b[0m 30ms/step - accuracy: 0.7800 - loss: 0.4942 - val_accuracy: 0.8111 - val_loss: 0.3685 - learning_rate: 5.0000e-04\n",
            "Epoch 44/80\n",
            "\u001b[1m449/449\u001b[0m \u001b[32m━━━━━━━━━━━━━━━━━━━━\u001b[0m\u001b[37m\u001b[0m \u001b[1m13s\u001b[0m 30ms/step - accuracy: 0.7804 - loss: 0.4880 - val_accuracy: 0.8167 - val_loss: 0.3509 - learning_rate: 2.5000e-04\n",
            "Epoch 45/80\n",
            "\u001b[1m449/449\u001b[0m \u001b[32m━━━━━━━━━━━━━━━━━━━━\u001b[0m\u001b[37m\u001b[0m \u001b[1m15s\u001b[0m 34ms/step - accuracy: 0.7871 - loss: 0.4677 - val_accuracy: 0.8164 - val_loss: 0.3499 - learning_rate: 2.5000e-04\n",
            "Epoch 46/80\n",
            "\u001b[1m448/449\u001b[0m \u001b[32m━━━━━━━━━━━━━━━━━━━\u001b[0m\u001b[37m━\u001b[0m \u001b[1m0s\u001b[0m 27ms/step - accuracy: 0.7811 - loss: 0.4661"
          ]
        },
        {
          "output_type": "stream",
          "name": "stderr",
          "text": [
            "WARNING:absl:You are saving your model as an HDF5 file via `model.save()` or `keras.saving.save_model(model)`. This file format is considered legacy. We recommend using instead the native Keras format, e.g. `model.save('my_model.keras')` or `keras.saving.save_model(model, 'my_model.keras')`. \n"
          ]
        },
        {
          "output_type": "stream",
          "name": "stdout",
          "text": [
            "\b\b\b\b\b\b\b\b\b\b\b\b\b\b\b\b\b\b\b\b\b\b\b\b\b\b\b\b\b\b\b\b\b\b\b\b\b\b\b\b\b\b\b\b\b\b\b\b\b\b\b\b\b\b\b\b\b\b\b\b\b\b\b\b\b\b\b\b\b\b\b\b\b\b\b\r\u001b[1m449/449\u001b[0m \u001b[32m━━━━━━━━━━━━━━━━━━━━\u001b[0m\u001b[37m\u001b[0m \u001b[1m18s\u001b[0m 30ms/step - accuracy: 0.7811 - loss: 0.4661 - val_accuracy: 0.8192 - val_loss: 0.3509 - learning_rate: 2.5000e-04\n",
            "Epoch 47/80\n",
            "\u001b[1m449/449\u001b[0m \u001b[32m━━━━━━━━━━━━━━━━━━━━\u001b[0m\u001b[37m\u001b[0m \u001b[1m14s\u001b[0m 30ms/step - accuracy: 0.7945 - loss: 0.4542 - val_accuracy: 0.8075 - val_loss: 0.3692 - learning_rate: 2.5000e-04\n",
            "Epoch 48/80\n",
            "\u001b[1m449/449\u001b[0m \u001b[32m━━━━━━━━━━━━━━━━━━━━\u001b[0m\u001b[37m\u001b[0m \u001b[1m20s\u001b[0m 30ms/step - accuracy: 0.7829 - loss: 0.4720 - val_accuracy: 0.8155 - val_loss: 0.3523 - learning_rate: 2.5000e-04\n",
            "Epoch 49/80\n",
            "\u001b[1m449/449\u001b[0m \u001b[32m━━━━━━━━━━━━━━━━━━━━\u001b[0m\u001b[37m\u001b[0m \u001b[1m22s\u001b[0m 33ms/step - accuracy: 0.7920 - loss: 0.4610 - val_accuracy: 0.8150 - val_loss: 0.3506 - learning_rate: 2.5000e-04\n",
            "Epoch 50/80\n",
            "\u001b[1m449/449\u001b[0m \u001b[32m━━━━━━━━━━━━━━━━━━━━\u001b[0m\u001b[37m\u001b[0m \u001b[1m19s\u001b[0m 29ms/step - accuracy: 0.7922 - loss: 0.4551 - val_accuracy: 0.8158 - val_loss: 0.3464 - learning_rate: 2.5000e-04\n",
            "Epoch 51/80\n",
            "\u001b[1m449/449\u001b[0m \u001b[32m━━━━━━━━━━━━━━━━━━━━\u001b[0m\u001b[37m\u001b[0m \u001b[1m21s\u001b[0m 30ms/step - accuracy: 0.7918 - loss: 0.4506 - val_accuracy: 0.8122 - val_loss: 0.3731 - learning_rate: 2.5000e-04\n",
            "Epoch 52/80\n",
            "\u001b[1m449/449\u001b[0m \u001b[32m━━━━━━━━━━━━━━━━━━━━\u001b[0m\u001b[37m\u001b[0m \u001b[1m14s\u001b[0m 31ms/step - accuracy: 0.7987 - loss: 0.4552 - val_accuracy: 0.8142 - val_loss: 0.3464 - learning_rate: 2.5000e-04\n",
            "Epoch 53/80\n",
            "\u001b[1m449/449\u001b[0m \u001b[32m━━━━━━━━━━━━━━━━━━━━\u001b[0m\u001b[37m\u001b[0m \u001b[1m20s\u001b[0m 30ms/step - accuracy: 0.7909 - loss: 0.4488 - val_accuracy: 0.8139 - val_loss: 0.3432 - learning_rate: 2.5000e-04\n",
            "Epoch 54/80\n",
            "\u001b[1m449/449\u001b[0m \u001b[32m━━━━━━━━━━━━━━━━━━━━\u001b[0m\u001b[37m\u001b[0m \u001b[1m21s\u001b[0m 31ms/step - accuracy: 0.8036 - loss: 0.4401 - val_accuracy: 0.8164 - val_loss: 0.3497 - learning_rate: 2.5000e-04\n",
            "Epoch 55/80\n",
            "\u001b[1m449/449\u001b[0m \u001b[32m━━━━━━━━━━━━━━━━━━━━\u001b[0m\u001b[37m\u001b[0m \u001b[1m14s\u001b[0m 30ms/step - accuracy: 0.7883 - loss: 0.4586 - val_accuracy: 0.8169 - val_loss: 0.3494 - learning_rate: 2.5000e-04\n",
            "Epoch 56/80\n",
            "\u001b[1m448/449\u001b[0m \u001b[32m━━━━━━━━━━━━━━━━━━━\u001b[0m\u001b[37m━\u001b[0m \u001b[1m0s\u001b[0m 28ms/step - accuracy: 0.7905 - loss: 0.4486"
          ]
        },
        {
          "output_type": "stream",
          "name": "stderr",
          "text": [
            "WARNING:absl:You are saving your model as an HDF5 file via `model.save()` or `keras.saving.save_model(model)`. This file format is considered legacy. We recommend using instead the native Keras format, e.g. `model.save('my_model.keras')` or `keras.saving.save_model(model, 'my_model.keras')`. \n"
          ]
        },
        {
          "output_type": "stream",
          "name": "stdout",
          "text": [
            "\b\b\b\b\b\b\b\b\b\b\b\b\b\b\b\b\b\b\b\b\b\b\b\b\b\b\b\b\b\b\b\b\b\b\b\b\b\b\b\b\b\b\b\b\b\b\b\b\b\b\b\b\b\b\b\b\b\b\b\b\b\b\b\b\b\b\b\b\b\b\b\b\b\b\b\r\u001b[1m449/449\u001b[0m \u001b[32m━━━━━━━━━━━━━━━━━━━━\u001b[0m\u001b[37m\u001b[0m \u001b[1m20s\u001b[0m 30ms/step - accuracy: 0.7905 - loss: 0.4486 - val_accuracy: 0.8370 - val_loss: 0.3448 - learning_rate: 2.5000e-04\n",
            "Epoch 57/80\n",
            "\u001b[1m449/449\u001b[0m \u001b[32m━━━━━━━━━━━━━━━━━━━━\u001b[0m\u001b[37m\u001b[0m \u001b[1m21s\u001b[0m 31ms/step - accuracy: 0.7942 - loss: 0.4451 - val_accuracy: 0.8125 - val_loss: 0.3606 - learning_rate: 2.5000e-04\n",
            "Epoch 58/80\n",
            "\u001b[1m449/449\u001b[0m \u001b[32m━━━━━━━━━━━━━━━━━━━━\u001b[0m\u001b[37m\u001b[0m \u001b[1m20s\u001b[0m 30ms/step - accuracy: 0.7976 - loss: 0.4419 - val_accuracy: 0.8153 - val_loss: 0.3586 - learning_rate: 2.5000e-04\n",
            "Epoch 59/80\n",
            "\u001b[1m449/449\u001b[0m \u001b[32m━━━━━━━━━━━━━━━━━━━━\u001b[0m\u001b[37m\u001b[0m \u001b[1m13s\u001b[0m 29ms/step - accuracy: 0.7930 - loss: 0.4538 - val_accuracy: 0.8153 - val_loss: 0.3451 - learning_rate: 1.2500e-04\n",
            "Epoch 60/80\n",
            "\u001b[1m449/449\u001b[0m \u001b[32m━━━━━━━━━━━━━━━━━━━━\u001b[0m\u001b[37m\u001b[0m \u001b[1m14s\u001b[0m 31ms/step - accuracy: 0.8058 - loss: 0.4194 - val_accuracy: 0.8158 - val_loss: 0.3463 - learning_rate: 1.2500e-04\n",
            "Epoch 61/80\n",
            "\u001b[1m449/449\u001b[0m \u001b[32m━━━━━━━━━━━━━━━━━━━━\u001b[0m\u001b[37m\u001b[0m \u001b[1m14s\u001b[0m 30ms/step - accuracy: 0.7943 - loss: 0.4329 - val_accuracy: 0.8192 - val_loss: 0.3503 - learning_rate: 1.2500e-04\n",
            "Epoch 62/80\n",
            "\u001b[1m449/449\u001b[0m \u001b[32m━━━━━━━━━━━━━━━━━━━━\u001b[0m\u001b[37m\u001b[0m \u001b[1m13s\u001b[0m 30ms/step - accuracy: 0.7986 - loss: 0.4322 - val_accuracy: 0.8167 - val_loss: 0.3648 - learning_rate: 1.2500e-04\n",
            "Epoch 63/80\n",
            "\u001b[1m449/449\u001b[0m \u001b[32m━━━━━━━━━━━━━━━━━━━━\u001b[0m\u001b[37m\u001b[0m \u001b[1m21s\u001b[0m 30ms/step - accuracy: 0.7972 - loss: 0.4411 - val_accuracy: 0.8169 - val_loss: 0.3729 - learning_rate: 1.2500e-04\n",
            "\u001b[1m113/113\u001b[0m \u001b[32m━━━━━━━━━━━━━━━━━━━━\u001b[0m\u001b[37m\u001b[0m \u001b[1m1s\u001b[0m 9ms/step - accuracy: 0.8335 - loss: 0.3497\n",
            "Enhanced Robot Model - Loss: 0.3448, Accuracy: 0.8370\n",
            "\u001b[1m113/113\u001b[0m \u001b[32m━━━━━━━━━━━━━━━━━━━━\u001b[0m\u001b[37m\u001b[0m \u001b[1m4s\u001b[0m 25ms/step\n",
            "\n",
            "Classification Report:\n",
            "              precision    recall  f1-score   support\n",
            "\n",
            "         0.0       0.72      0.70      0.71       189\n",
            "         1.0       0.99      1.00      1.00       189\n",
            "         2.0       1.00      1.00      1.00       189\n",
            "         3.0       1.00      0.99      1.00       189\n",
            "         4.0       0.32      0.40      0.35       188\n",
            "         5.0       1.00      1.00      1.00       189\n",
            "         6.0       1.00      1.00      1.00       189\n",
            "         7.0       0.79      0.12      0.21       189\n",
            "         8.0       0.98      1.00      0.99       189\n",
            "         9.0       0.71      0.72      0.71       189\n",
            "        10.0       1.00      1.00      1.00       189\n",
            "        11.0       1.00      0.99      1.00       189\n",
            "        12.0       1.00      1.00      1.00       189\n",
            "        13.0       0.27      0.56      0.36       189\n",
            "        14.0       1.00      0.99      1.00       189\n",
            "        15.0       1.00      1.00      1.00       189\n",
            "        16.0       0.81      0.42      0.55       189\n",
            "        17.0       1.00      1.00      1.00       188\n",
            "        18.0       1.00      1.00      1.00       189\n",
            "\n",
            "    accuracy                           0.84      3589\n",
            "   macro avg       0.87      0.84      0.84      3589\n",
            "weighted avg       0.87      0.84      0.84      3589\n",
            "\n"
          ]
        },
        {
          "output_type": "display_data",
          "data": {
            "text/plain": [
              "<Figure size 1200x400 with 2 Axes>"
            ],
            "image/png": "[encoded data removed]"
          },
          "metadata": {}
        },
        {
          "output_type": "display_data",
          "data": {
            "text/plain": [
              "<Figure size 1000x600 with 1 Axes>"
            ],
            "image/png": "[encoded data removed]"
          },
          "metadata": {}
        }
      ],
      "source": [
        "import pandas as pd\n",
        "import numpy as np\n",
        "import tensorflow as tf\n",
        "from tensorflow.keras.models import Model, Sequential\n",
        "from tensorflow.keras.layers import LSTM, Dense, Dropout, Input, Reshape, BatchNormalization, Activation, LayerNormalization\n",
        "from tensorflow.keras.layers import Bidirectional, TimeDistributed, GlobalAveragePooling1D, Concatenate, Add\n",
        "from tensorflow.keras.regularizers import l1_l2\n",
        "from tensorflow.keras.callbacks import EarlyStopping, ReduceLROnPlateau, ModelCheckpoint\n",
        "from tensorflow.keras.optimizers import Adam\n",
        "from sklearn.preprocessing import LabelEncoder, MinMaxScaler, RobustScaler\n",
        "from sklearn.model_selection import train_test_split\n",
        "from sklearn.utils import class_weight\n",
        "import matplotlib.pyplot as plt\n",
        "from sklearn.metrics import confusion_matrix, classification_report\n",
        "\n",
        "# Load datasets\n",
        "human_df = pd.read_csv(\"all_activity_data.csv\")\n",
        "robot_df = pd.read_csv(\"Hexapod_One_Joint.csv\")\n",
        "\n",
        "# Preprocessing Human Motion Data with more robust scaling\n",
        "human_scaler = RobustScaler()  # Better for outliers than MinMaxScaler\n",
        "human_features = [\"Accel_X\", \"Accel_Y\", \"Accel_Z\", \"Gyro_X\", \"Gyro_Y\", \"Gyro_Z\"]\n",
        "human_df[human_features] = human_scaler.fit_transform(human_df[human_features])\n",
        "le = LabelEncoder()\n",
        "human_df[\"Activity_Type\"] = le.fit_transform(human_df[\"Activity_Type\"])\n",
        "\n",
        "# Create time windows for temporal patterns (using 10 time steps instead of 1)\n",
        "def create_sequences(data, seq_length=10):\n",
        "    xs, ys = [], []\n",
        "    for i in range(len(data) - seq_length):\n",
        "        x = data.iloc[i:(i + seq_length)]\n",
        "        # Label is taken from the last timestep's label\n",
        "        y = data.iloc[i + seq_length - 1]\n",
        "        xs.append(x[human_features].values)\n",
        "        ys.append(y[\"Activity_Type\"])\n",
        "    return np.array(xs), np.array(ys)\n",
        "\n",
        "# Create sequences for human data\n",
        "seq_length = 10  # Increase temporal context\n",
        "X_human_seq, y_human_seq = create_sequences(human_df, seq_length)\n",
        "\n",
        "# Split human data\n",
        "X_train_h, X_test_h, y_train_h, y_test_h = train_test_split(\n",
        "    X_human_seq, y_human_seq, test_size=0.2, random_state=42, stratify=y_human_seq)\n",
        "\n",
        "# Calculate class weights to handle imbalance\n",
        "class_weights_human = class_weight.compute_class_weight(\n",
        "    'balanced', classes=np.unique(y_train_h), y=y_train_h)\n",
        "class_weights_human_dict = {i: weight for i, weight in enumerate(class_weights_human)}\n",
        "\n",
        "# Build an enhanced human activity recognition model\n",
        "def residual_lstm_block(x, units, dropout_rate=0.2):\n",
        "    # Main path\n",
        "    main_path = Bidirectional(LSTM(units, return_sequences=True))(x)\n",
        "    main_path = LayerNormalization()(main_path)\n",
        "    main_path = Dropout(dropout_rate)(main_path)\n",
        "\n",
        "    # Adapt input dimensions if necessary for the residual connection\n",
        "    if x.shape[-1] != main_path.shape[-1]:\n",
        "        x = TimeDistributed(Dense(main_path.shape[-1]))(x)\n",
        "\n",
        "    # Add residual connection\n",
        "    return Add()([main_path, x])\n",
        "\n",
        "# Enhanced human model architecture\n",
        "input_human = Input(shape=(seq_length, len(human_features)))\n",
        "x = input_human\n",
        "\n",
        "# First residual block\n",
        "x = residual_lstm_block(x, 64)\n",
        "\n",
        "# Second residual block\n",
        "x = residual_lstm_block(x, 64)\n",
        "\n",
        "# Final LSTM layer with skip connection from input\n",
        "x = Bidirectional(LSTM(32, return_sequences=False))(x)\n",
        "x = BatchNormalization()(x)\n",
        "x = Dropout(0.3)(x)\n",
        "\n",
        "# Additional dense layers with regularization\n",
        "x = Dense(32, kernel_regularizer=l1_l2(l1=1e-5, l2=1e-4))(x)\n",
        "x = BatchNormalization()(x)\n",
        "x = Activation('relu')(x)\n",
        "x = Dropout(0.3)(x)\n",
        "\n",
        "# Output layer\n",
        "output_human = Dense(len(np.unique(y_human_seq)), activation='softmax')(x)\n",
        "\n",
        "# Create the human model\n",
        "human_model = Model(inputs=input_human, outputs=output_human)\n",
        "\n",
        "# Compile with a lower learning rate for better convergence\n",
        "optimizer = Adam(learning_rate=0.001)\n",
        "human_model.compile(\n",
        "    loss='sparse_categorical_crossentropy',\n",
        "    optimizer=optimizer,\n",
        "    metrics=['accuracy']\n",
        ")\n",
        "\n",
        "# Set up callbacks for better training\n",
        "early_stopping = EarlyStopping(\n",
        "    monitor='val_loss',\n",
        "    patience=10,\n",
        "    restore_best_weights=True\n",
        ")\n",
        "\n",
        "reduce_lr = ReduceLROnPlateau(\n",
        "    monitor='val_loss',\n",
        "    factor=0.5,\n",
        "    patience=5,\n",
        "    min_lr=1e-6\n",
        ")\n",
        "\n",
        "# Train the human model\n",
        "history_human = human_model.fit(\n",
        "    X_train_h, y_train_h,\n",
        "    epochs=80,  # More epochs, will stop early if needed\n",
        "    batch_size=64,  # Larger batch size for stability\n",
        "    validation_data=(X_test_h, y_test_h),\n",
        "    class_weight=class_weights_human_dict,\n",
        "    callbacks=[early_stopping, reduce_lr],\n",
        "    verbose=1\n",
        ")\n",
        "\n",
        "# Evaluate human model\n",
        "human_eval = human_model.evaluate(X_test_h, y_test_h)\n",
        "print(f\"Human Model - Loss: {human_eval[0]:.4f}, Accuracy: {human_eval[1]:.4f}\")\n",
        "\n",
        "# Now for the robot data\n",
        "robot_features = [\"X\", \"Y\", \"Z\", \"slop(x)\", \"slop(x/z)\", \"slop(1/z)\", \"slop(1/x)\", \"slop(z/x)\", \"slop(z)\"]\n",
        "robot_scaler = RobustScaler()\n",
        "robot_df[robot_features] = robot_scaler.fit_transform(robot_df[robot_features])\n",
        "robot_df[\"Label\"] = le.fit_transform(robot_df[\"Label\"])\n",
        "\n",
        "# Create sequences for robot data\n",
        "def create_robot_sequences(data, seq_length=10):\n",
        "    xs = []\n",
        "    ys = []\n",
        "    for i in range(len(data) - seq_length):\n",
        "        xs.append(data.iloc[i:(i + seq_length)][robot_features].values)\n",
        "        ys.append(data.iloc[i + seq_length - 1][\"Label\"])\n",
        "    return np.array(xs), np.array(ys)\n",
        "\n",
        "X_robot_seq, y_robot_seq = create_robot_sequences(robot_df, seq_length)\n",
        "\n",
        "# Split robot data\n",
        "X_train_r, X_test_r, y_train_r, y_test_r = train_test_split(\n",
        "    X_robot_seq, y_robot_seq, test_size=0.2, random_state=42, stratify=y_robot_seq)\n",
        "\n",
        "# Calculate class weights for robot data\n",
        "class_weights_robot = class_weight.compute_class_weight(\n",
        "    'balanced', classes=np.unique(y_train_r), y=y_train_r)\n",
        "class_weights_robot_dict = {i: weight for i, weight in enumerate(class_weights_robot)}\n",
        "\n",
        "# Enhanced feature adaptation architecture\n",
        "input_robot = Input(shape=(seq_length, len(robot_features)))\n",
        "\n",
        "# Feature adaptation layers with multiple pathways\n",
        "# 1. Direct dimensional reduction\n",
        "direct_path = TimeDistributed(Dense(len(human_features)))(input_robot)\n",
        "direct_path = TimeDistributed(BatchNormalization())(direct_path)\n",
        "direct_path = TimeDistributed(Activation('relu'))(direct_path)\n",
        "\n",
        "# 2. Non-linear feature extraction path\n",
        "nonlinear_path = TimeDistributed(Dense(32))(input_robot)\n",
        "nonlinear_path = TimeDistributed(BatchNormalization())(nonlinear_path)\n",
        "nonlinear_path = TimeDistributed(Activation('relu'))(nonlinear_path)\n",
        "nonlinear_path = TimeDistributed(Dense(len(human_features)))(nonlinear_path)\n",
        "nonlinear_path = TimeDistributed(BatchNormalization())(nonlinear_path)\n",
        "nonlinear_path = TimeDistributed(Activation('relu'))(nonlinear_path)\n",
        "\n",
        "# Combine pathways\n",
        "adapted_features = Add()([direct_path, nonlinear_path])\n",
        "adapted_features = LayerNormalization()(adapted_features)\n",
        "adapted_features = Dropout(0.2)(adapted_features)\n",
        "\n",
        "# Extract layers from the trained human model\n",
        "# First residual block (extracting individual layers)\n",
        "x = Bidirectional(LSTM(64, return_sequences=True))(adapted_features)\n",
        "x = LayerNormalization()(x)\n",
        "x = Dropout(0.2)(x)\n",
        "\n",
        "# Add residual connection\n",
        "if adapted_features.shape[-1] != x.shape[-1]:\n",
        "    adapted_features = TimeDistributed(Dense(x.shape[-1]))(adapted_features)\n",
        "x = Add()([x, adapted_features])\n",
        "\n",
        "# Second residual block\n",
        "x = Bidirectional(LSTM(64, return_sequences=True))(x)\n",
        "x = LayerNormalization()(x)\n",
        "x = Dropout(0.2)(x)\n",
        "x = Add()([x, x])  # Residual connection to itself\n",
        "\n",
        "# Final layers\n",
        "x = Bidirectional(LSTM(32, return_sequences=False))(x)\n",
        "x = BatchNormalization()(x)\n",
        "x = Dropout(0.3)(x)\n",
        "\n",
        "# Domain-specific adaptation layer\n",
        "x = Dense(64, kernel_regularizer=l1_l2(l1=1e-5, l2=1e-4))(x)\n",
        "x = BatchNormalization()(x)\n",
        "x = Activation('relu')(x)\n",
        "x = Dropout(0.3)(x)\n",
        "\n",
        "# Output layer for robot classification\n",
        "output_robot = Dense(len(np.unique(y_robot_seq)), activation='softmax')(x)\n",
        "\n",
        "# Create the robot model\n",
        "robot_model = Model(inputs=input_robot, outputs=output_robot)\n",
        "\n",
        "# Initialize with human model weights where possible and freeze early layers\n",
        "# Assuming human_model has a similar structure in the middle layers\n",
        "# We need to be careful with the layer indices\n",
        "\n",
        "# Freeze the first few layers (feature extraction)\n",
        "for i in range(6, 14):  # Adjust these indices based on your model architecture\n",
        "    if i < len(robot_model.layers):\n",
        "        robot_model.layers[i].trainable = False\n",
        "\n",
        "# Use a lower learning rate for fine-tuning\n",
        "optimizer = Adam(learning_rate=0.0005)\n",
        "robot_model.compile(\n",
        "    loss='sparse_categorical_crossentropy',\n",
        "    optimizer=optimizer,\n",
        "    metrics=['accuracy']\n",
        "  )\n",
        "\n",
        "# Set up callbacks\n",
        "checkpoint = ModelCheckpoint(\n",
        "    'best_robot_model.h5',\n",
        "    monitor='val_accuracy',\n",
        "    save_best_only=True,\n",
        "    mode='max'\n",
        ")\n",
        "\n",
        "# Fine-tune the robot model\n",
        "history_robot = robot_model.fit(\n",
        "    X_train_r, y_train_r,\n",
        "    epochs=80,  # More epochs with early stopping\n",
        "    batch_size=32,\n",
        "    validation_data=(X_test_r, y_test_r),\n",
        "    class_weight=class_weights_robot_dict,\n",
        "    callbacks=[early_stopping, reduce_lr, checkpoint],\n",
        "    verbose=1\n",
        ")\n",
        "\n",
        "# Load the best model\n",
        "robot_model.load_weights('best_robot_model.h5')\n",
        "\n",
        "# Final evaluation\n",
        "loss, accuracy = robot_model.evaluate(X_test_r, y_test_r)\n",
        "print(f\"Enhanced Robot Model - Loss: {loss:.4f}, Accuracy: {accuracy:.4f}\")\n",
        "\n",
        "# Get predictions for confusion matrix and classification report\n",
        "y_pred = np.argmax(robot_model.predict(X_test_r), axis=1)\n",
        "print(\"\\nClassification Report:\")\n",
        "print(classification_report(y_test_r, y_pred))\n",
        "\n",
        "# Plot training history\n",
        "plt.figure(figsize=(12, 4))\n",
        "plt.subplot(1, 2, 1)\n",
        "plt.plot(history_robot.history['accuracy'])\n",
        "plt.plot(history_robot.history['val_accuracy'])\n",
        "plt.title('Model Accuracy')\n",
        "plt.ylabel('Accuracy')\n",
        "plt.xlabel('Epoch')\n",
        "plt.legend(['Train', 'Validation'], loc='upper left')\n",
        "\n",
        "plt.subplot(1, 2, 2)\n",
        "plt.plot(history_robot.history['loss'])\n",
        "plt.plot(history_robot.history['val_loss'])\n",
        "plt.title('Model Loss')\n",
        "plt.ylabel('Loss')\n",
        "plt.xlabel('Epoch')\n",
        "plt.legend(['Train', 'Validation'], loc='upper left')\n",
        "plt.tight_layout()\n",
        "plt.savefig('training_history.png')\n",
        "plt.show()\n",
        "\n",
        "# Feature importance visualization (optional)\n",
        "# Find the first layer that has trainable weights\n",
        "layer_with_weights = None\n",
        "for layer in robot_model.layers:\n",
        "    if hasattr(layer, 'get_weights') and layer.get_weights():  # Check if the layer has non-empty weights\n",
        "        layer_with_weights = layer\n",
        "        break\n",
        "\n",
        "if layer_with_weights:\n",
        "    weights = layer_with_weights.get_weights()[0]\n",
        "    importance = np.sum(np.abs(weights), axis=1)\n",
        "\n",
        "    plt.figure(figsize=(10, 6))\n",
        "    plt.bar(robot_features, importance)\n",
        "    plt.title('Feature Importance')\n",
        "    plt.xlabel('Features')\n",
        "    plt.ylabel('Importance Score')\n",
        "    plt.xticks(rotation=45)\n",
        "    plt.tight_layout()\n",
        "    plt.savefig('feature_importance.png')\n",
        "    plt.show()\n",
        "\n",
        "else:\n",
        "    print(\"No trainable weights found in the model layers for feature importance analysis.\")\n"
      ]
    },
    {
      "cell_type": "markdown",
      "source": [
        "LSTM MODEL FOR ROBOT JOINT FAULT DETECTION"
      ],
      "metadata": {
        "id": "h3Acq8ofFTYp"
      }
    },
    {
      "cell_type": "code",
      "source": [
        "import pandas as pd\n",
        "import numpy as np\n",
        "import tensorflow as tf\n",
        "from tensorflow.keras.models import Sequential, Model\n",
        "from tensorflow.keras.layers import LSTM, Dense, Dropout, Input, Reshape, Concatenate\n",
        "from sklearn.preprocessing import LabelEncoder, MinMaxScaler\n",
        "from sklearn.model_selection import train_test_split\n",
        "\n",
        "# Load datasets\n",
        "human_df = pd.read_csv(\"all_activity_data.csv\")\n",
        "robot_df = pd.read_csv(\"Hexapod_One_Joint.csv\")\n",
        "\n",
        "# Preprocessing Human Motion Data\n",
        "human_scaler = MinMaxScaler()\n",
        "human_features = [\"Accel_X\", \"Accel_Y\", \"Accel_Z\", \"Gyro_X\", \"Gyro_Y\", \"Gyro_Z\"]\n",
        "human_df[human_features] = human_scaler.fit_transform(human_df[human_features])\n",
        "le = LabelEncoder()\n",
        "human_df[\"Activity_Type\"] = le.fit_transform(human_df[\"Activity_Type\"])\n",
        "\n",
        "# Prepare input/output for human motion model\n",
        "X_human = human_df[human_features].values.reshape(-1, 1, len(human_features))\n",
        "y_human = human_df[\"Activity_Type\"].values\n",
        "X_train_h, X_test_h, y_train_h, y_test_h = train_test_split(X_human, y_human, test_size=0.2, random_state=42)\n",
        "\n",
        "# Train LSTM on Human Motion Data\n",
        "human_model = Sequential([\n",
        "    LSTM(64, return_sequences=True, input_shape=(1, len(human_features))),\n",
        "    Dropout(0.2),\n",
        "    LSTM(32, return_sequences=False),\n",
        "    Dense(16, activation='relu'),\n",
        "    Dense(len(np.unique(y_human)), activation='softmax')\n",
        "])\n",
        "human_model.compile(loss='sparse_categorical_crossentropy', optimizer='adam', metrics=['accuracy'])\n",
        "human_model.fit(X_train_h, y_train_h, epochs=10, batch_size=32, validation_data=(X_test_h, y_test_h))\n",
        "\n",
        "# Preprocessing Robot Fault Data\n",
        "robot_features = [\"X\", \"Y\", \"Z\", \"slop(x)\", \"slop(x/z)\", \"slop(1/z)\", \"slop(1/x)\", \"slop(z/x)\", \"slop(z)\"]\n",
        "robot_scaler = MinMaxScaler()\n",
        "robot_df[robot_features] = robot_scaler.fit_transform(robot_df[robot_features])  # Fit a separate scaler\n",
        "robot_df[\"Label\"] = le.fit_transform(robot_df[\"Label\"])\n",
        "\n",
        "# Use all robot features\n",
        "X_robot_full = robot_df[robot_features].values.reshape(-1, 1, len(robot_features))\n",
        "y_robot = robot_df[\"Label\"].values\n",
        "X_train_r, X_test_r, y_train_r, y_test_r = train_test_split(X_robot_full, y_robot, test_size=0.2, random_state=42)\n",
        "\n",
        "# Train a new model from scratch\n",
        "robot_model_new = Sequential([\n",
        "    LSTM(64, return_sequences=True, input_shape=(1, len(robot_features))),\n",
        "    Dropout(0.2),\n",
        "    LSTM(32, return_sequences=False),\n",
        "    Dense(16, activation='relu'),\n",
        "    Dense(len(np.unique(y_robot)), activation='softmax')\n",
        "])\n",
        "robot_model_new.compile(loss='sparse_categorical_crossentropy', optimizer='adam', metrics=['accuracy'])\n",
        "robot_model_new.fit(X_train_r, y_train_r, epochs=10, batch_size=32, validation_data=(X_test_r, y_test_r))\n",
        "\n",
        "# Evaluate the model\n",
        "loss, accuracy = robot_model_new.evaluate(X_test_r, y_test_r)\n",
        "print(f\"Robot Fault Prediction Accuracy (New Model): {accuracy * 100:.2f}%\")"
      ],
      "metadata": {
        "id": "ot8g_ROWn_dx",
        "colab": {
          "base_uri": "https://localhost:8080/"
        },
        "outputId": "bfc9a1b5-6036-447d-f99d-683318842ca8"
      },
      "execution_count": 3,
      "outputs": [
        {
          "output_type": "stream",
          "name": "stdout",
          "text": [
            "Epoch 1/10\n"
          ]
        },
        {
          "output_type": "stream",
          "name": "stderr",
          "text": [
            "/usr/local/lib/python3.11/dist-packages/keras/src/layers/rnn/rnn.py:200: UserWarning: Do not pass an `input_shape`/`input_dim` argument to a layer. When using Sequential models, prefer using an `Input(shape)` object as the first layer in the model instead.\n",
            "  super().__init__(**kwargs)\n"
          ]
        },
        {
          "output_type": "stream",
          "name": "stdout",
          "text": [
            "\u001b[1m1239/1239\u001b[0m \u001b[32m━━━━━━━━━━━━━━━━━━━━\u001b[0m\u001b[37m\u001b[0m \u001b[1m20s\u001b[0m 15ms/step - accuracy: 0.2494 - loss: 1.3865 - val_accuracy: 0.2534 - val_loss: 1.3861\n",
            "Epoch 2/10\n",
            "\u001b[1m1239/1239\u001b[0m \u001b[32m━━━━━━━━━━━━━━━━━━━━\u001b[0m\u001b[37m\u001b[0m \u001b[1m11s\u001b[0m 7ms/step - accuracy: 0.2532 - loss: 1.3863 - val_accuracy: 0.2394 - val_loss: 1.3865\n",
            "Epoch 3/10\n",
            "\u001b[1m1239/1239\u001b[0m \u001b[32m━━━━━━━━━━━━━━━━━━━━\u001b[0m\u001b[37m\u001b[0m \u001b[1m11s\u001b[0m 7ms/step - accuracy: 0.2547 - loss: 1.3863 - val_accuracy: 0.2557 - val_loss: 1.3863\n",
            "Epoch 4/10\n",
            "\u001b[1m1239/1239\u001b[0m \u001b[32m━━━━━━━━━━━━━━━━━━━━\u001b[0m\u001b[37m\u001b[0m \u001b[1m10s\u001b[0m 8ms/step - accuracy: 0.2490 - loss: 1.3864 - val_accuracy: 0.2534 - val_loss: 1.3864\n",
            "Epoch 5/10\n",
            "\u001b[1m1239/1239\u001b[0m \u001b[32m━━━━━━━━━━━━━━━━━━━━\u001b[0m\u001b[37m\u001b[0m \u001b[1m10s\u001b[0m 8ms/step - accuracy: 0.2499 - loss: 1.3865 - val_accuracy: 0.2557 - val_loss: 1.3863\n",
            "Epoch 6/10\n",
            "\u001b[1m1239/1239\u001b[0m \u001b[32m━━━━━━━━━━━━━━━━━━━━\u001b[0m\u001b[37m\u001b[0m \u001b[1m9s\u001b[0m 7ms/step - accuracy: 0.2537 - loss: 1.3863 - val_accuracy: 0.2534 - val_loss: 1.3864\n",
            "Epoch 7/10\n",
            "\u001b[1m1239/1239\u001b[0m \u001b[32m━━━━━━━━━━━━━━━━━━━━\u001b[0m\u001b[37m\u001b[0m \u001b[1m10s\u001b[0m 7ms/step - accuracy: 0.2483 - loss: 1.3864 - val_accuracy: 0.2534 - val_loss: 1.3863\n",
            "Epoch 8/10\n",
            "\u001b[1m1239/1239\u001b[0m \u001b[32m━━━━━━━━━━━━━━━━━━━━\u001b[0m\u001b[37m\u001b[0m \u001b[1m11s\u001b[0m 8ms/step - accuracy: 0.2513 - loss: 1.3864 - val_accuracy: 0.2534 - val_loss: 1.3863\n",
            "Epoch 9/10\n",
            "\u001b[1m1239/1239\u001b[0m \u001b[32m━━━━━━━━━━━━━━━━━━━━\u001b[0m\u001b[37m\u001b[0m \u001b[1m10s\u001b[0m 8ms/step - accuracy: 0.2503 - loss: 1.3863 - val_accuracy: 0.2394 - val_loss: 1.3865\n",
            "Epoch 10/10\n",
            "\u001b[1m1239/1239\u001b[0m \u001b[32m━━━━━━━━━━━━━━━━━━━━\u001b[0m\u001b[37m\u001b[0m \u001b[1m10s\u001b[0m 8ms/step - accuracy: 0.2535 - loss: 1.3863 - val_accuracy: 0.2557 - val_loss: 1.3861\n",
            "Epoch 1/10\n"
          ]
        },
        {
          "output_type": "stream",
          "name": "stderr",
          "text": [
            "/usr/local/lib/python3.11/dist-packages/keras/src/layers/rnn/rnn.py:200: UserWarning: Do not pass an `input_shape`/`input_dim` argument to a layer. When using Sequential models, prefer using an `Input(shape)` object as the first layer in the model instead.\n",
            "  super().__init__(**kwargs)\n"
          ]
        },
        {
          "output_type": "stream",
          "name": "stdout",
          "text": [
            "\u001b[1m449/449\u001b[0m \u001b[32m━━━━━━━━━━━━━━━━━━━━\u001b[0m\u001b[37m\u001b[0m \u001b[1m6s\u001b[0m 8ms/step - accuracy: 0.0929 - loss: 2.8082 - val_accuracy: 0.3804 - val_loss: 2.0063\n",
            "Epoch 2/10\n",
            "\u001b[1m449/449\u001b[0m \u001b[32m━━━━━━━━━━━━━━━━━━━━\u001b[0m\u001b[37m\u001b[0m \u001b[1m4s\u001b[0m 9ms/step - accuracy: 0.3596 - loss: 1.8811 - val_accuracy: 0.5901 - val_loss: 1.2459\n",
            "Epoch 3/10\n",
            "\u001b[1m449/449\u001b[0m \u001b[32m━━━━━━━━━━━━━━━━━━━━\u001b[0m\u001b[37m\u001b[0m \u001b[1m4s\u001b[0m 8ms/step - accuracy: 0.5905 - loss: 1.2021 - val_accuracy: 0.6895 - val_loss: 0.8414\n",
            "Epoch 4/10\n",
            "\u001b[1m449/449\u001b[0m \u001b[32m━━━━━━━━━━━━━━━━━━━━\u001b[0m\u001b[37m\u001b[0m \u001b[1m5s\u001b[0m 8ms/step - accuracy: 0.6928 - loss: 0.8750 - val_accuracy: 0.7842 - val_loss: 0.6895\n",
            "Epoch 5/10\n",
            "\u001b[1m449/449\u001b[0m \u001b[32m━━━━━━━━━━━━━━━━━━━━\u001b[0m\u001b[37m\u001b[0m \u001b[1m5s\u001b[0m 8ms/step - accuracy: 0.7435 - loss: 0.7313 - val_accuracy: 0.8315 - val_loss: 0.6093\n",
            "Epoch 6/10\n",
            "\u001b[1m449/449\u001b[0m \u001b[32m━━━━━━━━━━━━━━━━━━━━\u001b[0m\u001b[37m\u001b[0m \u001b[1m5s\u001b[0m 8ms/step - accuracy: 0.7730 - loss: 0.6499 - val_accuracy: 0.8009 - val_loss: 0.5839\n",
            "Epoch 7/10\n",
            "\u001b[1m449/449\u001b[0m \u001b[32m━━━━━━━━━━━━━━━━━━━━\u001b[0m\u001b[37m\u001b[0m \u001b[1m5s\u001b[0m 8ms/step - accuracy: 0.7897 - loss: 0.5937 - val_accuracy: 0.8945 - val_loss: 0.4859\n",
            "Epoch 8/10\n",
            "\u001b[1m449/449\u001b[0m \u001b[32m━━━━━━━━━━━━━━━━━━━━\u001b[0m\u001b[37m\u001b[0m \u001b[1m3s\u001b[0m 7ms/step - accuracy: 0.8023 - loss: 0.5473 - val_accuracy: 0.9109 - val_loss: 0.4437\n",
            "Epoch 9/10\n",
            "\u001b[1m449/449\u001b[0m \u001b[32m━━━━━━━━━━━━━━━━━━━━\u001b[0m\u001b[37m\u001b[0m \u001b[1m3s\u001b[0m 7ms/step - accuracy: 0.8235 - loss: 0.5252 - val_accuracy: 0.8496 - val_loss: 0.4590\n",
            "Epoch 10/10\n",
            "\u001b[1m449/449\u001b[0m \u001b[32m━━━━━━━━━━━━━━━━━━━━\u001b[0m\u001b[37m\u001b[0m \u001b[1m4s\u001b[0m 9ms/step - accuracy: 0.8346 - loss: 0.4902 - val_accuracy: 0.8663 - val_loss: 0.4588\n",
            "\u001b[1m113/113\u001b[0m \u001b[32m━━━━━━━━━━━━━━━━━━━━\u001b[0m\u001b[37m\u001b[0m \u001b[1m0s\u001b[0m 3ms/step - accuracy: 0.8714 - loss: 0.4431\n",
            "Robot Fault Prediction Accuracy (New Model): 86.63%\n"
          ]
        }
      ]
    }
  ]
}